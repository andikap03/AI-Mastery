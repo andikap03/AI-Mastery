{
  "nbformat": 4,
  "nbformat_minor": 0,
  "metadata": {
    "colab": {
      "name": "HandsOn14_Nearest Neighbour.ipynb",
      "provenance": [],
      "collapsed_sections": [],
      "toc_visible": true
    },
    "kernelspec": {
      "name": "python3",
      "display_name": "Python 3"
    },
    "language_info": {
      "name": "python"
    }
  },
  "cells": [
    {
      "cell_type": "markdown",
      "source": [
        "# **Algoritma Nearest Neighbour (k-NN)**\n",
        "***\n",
        "Algoritma ini menentukan suatu data akan diklasifikasikan ke kelas mana, dilihat dengan mencari jarak terdekatnya dari k-buah dataset train. kNN termasuk instance learning atau membutuhkan data untuk mengambil sebuah keputusan."
      ],
      "metadata": {
        "id": "jqVCEhOSYQRC"
      }
    },
    {
      "cell_type": "markdown",
      "source": [
        "# K-NN Methodology"
      ],
      "metadata": {
        "id": "A38DjKnQnpJH"
      }
    },
    {
      "cell_type": "markdown",
      "source": [
        "## Load Dataset\n",
        "Dataset yang digunakan disini adalah dataset spesies bunga Iris yang terdiri dari Iris-setosa, Iris-versicolor, dan Iris-virginica"
      ],
      "metadata": {
        "id": "NxJKSdoPY0YL"
      }
    },
    {
      "cell_type": "code",
      "execution_count": 19,
      "metadata": {
        "id": "Qsl9dEzlX6MQ"
      },
      "outputs": [],
      "source": [
        "# import library\n",
        "import numpy as np                                # import numpy untuk array\n",
        "import pandas as pd                               # import pandas untuk operasi dataframe/tabel\n",
        "import matplotlib.pyplot as plt                   # import plt untuk visualisasi data\n",
        "from matplotlib.ticker import NullFormatter       # import nullformater untuk logit scale\n",
        "import itertools                                  # import itertools untuk mengiterasi struktur data\n",
        "import matplotlib.ticker as ticker                # import ticker \n",
        "from sklearn import preprocessing                 # import untuk preprocessing data\n",
        "%matplotlib inline"
      ]
    },
    {
      "cell_type": "code",
      "source": [
        "# Load dataset\n",
        "url = 'https://raw.githubusercontent.com/achmatim/data-mining/main/Dataset/iris.csv'  # buat variabel berisi link dataset\n",
        "df = pd.read_csv(url)                                                                 # import data csv dari url menjadi tabel dengan pandas\n",
        "df.head()                                                                             # tampilkan bagian awal tabel"
      ],
      "metadata": {
        "colab": {
          "base_uri": "https://localhost:8080/",
          "height": 206
        },
        "id": "yFDmB5kCa_QA",
        "outputId": "fcb5c6e5-61aa-4cdc-f574-5220ce8fb79b"
      },
      "execution_count": 2,
      "outputs": [
        {
          "output_type": "execute_result",
          "data": {
            "text/plain": [
              "   SepalLengthCm  SepalWidthCm  PetalLengthCm  PetalWidthCm        Label\n",
              "0            5.1           3.5            1.4           0.2  Iris-setosa\n",
              "1            4.9           3.0            1.4           0.2  Iris-setosa\n",
              "2            4.7           3.2            1.3           0.2  Iris-setosa\n",
              "3            4.6           3.1            1.5           0.2  Iris-setosa\n",
              "4            5.0           3.6            1.4           0.2  Iris-setosa"
            ],
            "text/html": [
              "\n",
              "  <div id=\"df-fbea202e-00fb-4fd5-85e0-994cab720f80\">\n",
              "    <div class=\"colab-df-container\">\n",
              "      <div>\n",
              "<style scoped>\n",
              "    .dataframe tbody tr th:only-of-type {\n",
              "        vertical-align: middle;\n",
              "    }\n",
              "\n",
              "    .dataframe tbody tr th {\n",
              "        vertical-align: top;\n",
              "    }\n",
              "\n",
              "    .dataframe thead th {\n",
              "        text-align: right;\n",
              "    }\n",
              "</style>\n",
              "<table border=\"1\" class=\"dataframe\">\n",
              "  <thead>\n",
              "    <tr style=\"text-align: right;\">\n",
              "      <th></th>\n",
              "      <th>SepalLengthCm</th>\n",
              "      <th>SepalWidthCm</th>\n",
              "      <th>PetalLengthCm</th>\n",
              "      <th>PetalWidthCm</th>\n",
              "      <th>Label</th>\n",
              "    </tr>\n",
              "  </thead>\n",
              "  <tbody>\n",
              "    <tr>\n",
              "      <th>0</th>\n",
              "      <td>5.1</td>\n",
              "      <td>3.5</td>\n",
              "      <td>1.4</td>\n",
              "      <td>0.2</td>\n",
              "      <td>Iris-setosa</td>\n",
              "    </tr>\n",
              "    <tr>\n",
              "      <th>1</th>\n",
              "      <td>4.9</td>\n",
              "      <td>3.0</td>\n",
              "      <td>1.4</td>\n",
              "      <td>0.2</td>\n",
              "      <td>Iris-setosa</td>\n",
              "    </tr>\n",
              "    <tr>\n",
              "      <th>2</th>\n",
              "      <td>4.7</td>\n",
              "      <td>3.2</td>\n",
              "      <td>1.3</td>\n",
              "      <td>0.2</td>\n",
              "      <td>Iris-setosa</td>\n",
              "    </tr>\n",
              "    <tr>\n",
              "      <th>3</th>\n",
              "      <td>4.6</td>\n",
              "      <td>3.1</td>\n",
              "      <td>1.5</td>\n",
              "      <td>0.2</td>\n",
              "      <td>Iris-setosa</td>\n",
              "    </tr>\n",
              "    <tr>\n",
              "      <th>4</th>\n",
              "      <td>5.0</td>\n",
              "      <td>3.6</td>\n",
              "      <td>1.4</td>\n",
              "      <td>0.2</td>\n",
              "      <td>Iris-setosa</td>\n",
              "    </tr>\n",
              "  </tbody>\n",
              "</table>\n",
              "</div>\n",
              "      <button class=\"colab-df-convert\" onclick=\"convertToInteractive('df-fbea202e-00fb-4fd5-85e0-994cab720f80')\"\n",
              "              title=\"Convert this dataframe to an interactive table.\"\n",
              "              style=\"display:none;\">\n",
              "        \n",
              "  <svg xmlns=\"http://www.w3.org/2000/svg\" height=\"24px\"viewBox=\"0 0 24 24\"\n",
              "       width=\"24px\">\n",
              "    <path d=\"M0 0h24v24H0V0z\" fill=\"none\"/>\n",
              "    <path d=\"M18.56 5.44l.94 2.06.94-2.06 2.06-.94-2.06-.94-.94-2.06-.94 2.06-2.06.94zm-11 1L8.5 8.5l.94-2.06 2.06-.94-2.06-.94L8.5 2.5l-.94 2.06-2.06.94zm10 10l.94 2.06.94-2.06 2.06-.94-2.06-.94-.94-2.06-.94 2.06-2.06.94z\"/><path d=\"M17.41 7.96l-1.37-1.37c-.4-.4-.92-.59-1.43-.59-.52 0-1.04.2-1.43.59L10.3 9.45l-7.72 7.72c-.78.78-.78 2.05 0 2.83L4 21.41c.39.39.9.59 1.41.59.51 0 1.02-.2 1.41-.59l7.78-7.78 2.81-2.81c.8-.78.8-2.07 0-2.86zM5.41 20L4 18.59l7.72-7.72 1.47 1.35L5.41 20z\"/>\n",
              "  </svg>\n",
              "      </button>\n",
              "      \n",
              "  <style>\n",
              "    .colab-df-container {\n",
              "      display:flex;\n",
              "      flex-wrap:wrap;\n",
              "      gap: 12px;\n",
              "    }\n",
              "\n",
              "    .colab-df-convert {\n",
              "      background-color: #E8F0FE;\n",
              "      border: none;\n",
              "      border-radius: 50%;\n",
              "      cursor: pointer;\n",
              "      display: none;\n",
              "      fill: #1967D2;\n",
              "      height: 32px;\n",
              "      padding: 0 0 0 0;\n",
              "      width: 32px;\n",
              "    }\n",
              "\n",
              "    .colab-df-convert:hover {\n",
              "      background-color: #E2EBFA;\n",
              "      box-shadow: 0px 1px 2px rgba(60, 64, 67, 0.3), 0px 1px 3px 1px rgba(60, 64, 67, 0.15);\n",
              "      fill: #174EA6;\n",
              "    }\n",
              "\n",
              "    [theme=dark] .colab-df-convert {\n",
              "      background-color: #3B4455;\n",
              "      fill: #D2E3FC;\n",
              "    }\n",
              "\n",
              "    [theme=dark] .colab-df-convert:hover {\n",
              "      background-color: #434B5C;\n",
              "      box-shadow: 0px 1px 3px 1px rgba(0, 0, 0, 0.15);\n",
              "      filter: drop-shadow(0px 1px 2px rgba(0, 0, 0, 0.3));\n",
              "      fill: #FFFFFF;\n",
              "    }\n",
              "  </style>\n",
              "\n",
              "      <script>\n",
              "        const buttonEl =\n",
              "          document.querySelector('#df-fbea202e-00fb-4fd5-85e0-994cab720f80 button.colab-df-convert');\n",
              "        buttonEl.style.display =\n",
              "          google.colab.kernel.accessAllowed ? 'block' : 'none';\n",
              "\n",
              "        async function convertToInteractive(key) {\n",
              "          const element = document.querySelector('#df-fbea202e-00fb-4fd5-85e0-994cab720f80');\n",
              "          const dataTable =\n",
              "            await google.colab.kernel.invokeFunction('convertToInteractive',\n",
              "                                                     [key], {});\n",
              "          if (!dataTable) return;\n",
              "\n",
              "          const docLinkHtml = 'Like what you see? Visit the ' +\n",
              "            '<a target=\"_blank\" href=https://colab.research.google.com/notebooks/data_table.ipynb>data table notebook</a>'\n",
              "            + ' to learn more about interactive tables.';\n",
              "          element.innerHTML = '';\n",
              "          dataTable['output_type'] = 'display_data';\n",
              "          await google.colab.output.renderOutput(dataTable, element);\n",
              "          const docLink = document.createElement('div');\n",
              "          docLink.innerHTML = docLinkHtml;\n",
              "          element.appendChild(docLink);\n",
              "        }\n",
              "      </script>\n",
              "    </div>\n",
              "  </div>\n",
              "  "
            ]
          },
          "metadata": {},
          "execution_count": 2
        }
      ]
    },
    {
      "cell_type": "markdown",
      "source": [
        "## Analisis Dataset\n",
        "Dalam menganalisis dataset bisa dengan menampilkan jumlah anggota dari tiap kelasnya, ukuran data feature dan label, bisa juga dengan melakukan visualisasi dari dataset yang telah diload sebelumnya."
      ],
      "metadata": {
        "id": "rSJ5p_SYby_B"
      }
    },
    {
      "cell_type": "code",
      "source": [
        "# Tampilkan jumlah data unik label atau jumlah tiap kelasnya\n",
        "df['Label'].value_counts()"
      ],
      "metadata": {
        "colab": {
          "base_uri": "https://localhost:8080/"
        },
        "id": "Tymle_uHbr3d",
        "outputId": "12f12ccb-bb32-44e7-8036-3b66d27e96b7"
      },
      "execution_count": 3,
      "outputs": [
        {
          "output_type": "execute_result",
          "data": {
            "text/plain": [
              "Iris-setosa        50\n",
              "Iris-versicolor    50\n",
              "Iris-virginica     50\n",
              "Name: Label, dtype: int64"
            ]
          },
          "metadata": {},
          "execution_count": 3
        }
      ]
    },
    {
      "cell_type": "markdown",
      "source": [
        "Didapatkan bahwa tiap label datanya memiliki jumlah 50 anggota.\n",
        "\n",
        "Setelah itu bisa dibuat visualisasi datanya."
      ],
      "metadata": {
        "id": "l5CPaZ9hcXB0"
      }
    },
    {
      "cell_type": "code",
      "source": [
        "# Visualisasi Data\n",
        "import seaborn as sns\n",
        "\n",
        "sepal_length = df['SepalLengthCm']                     # buat variabel yang memuat semua data pada tiap fitur\n",
        "sepal_width = df['SepalWidthCm']\n",
        "petal_length = df['PetalLengthCm']\n",
        "petal_width = df['PetalWidthCm']\n",
        "\n",
        "fig, axes = plt.subplots(1, 4, figsize=(18, 4))       # buat subplot dengan pembagian 1x4\n",
        "fig.suptitle('Data Species Iris')                     # buat judul grafiknya\n",
        "\n",
        "sns.histplot(ax=axes[0], x=sepal_length, bins=20)     # visualisasi dengan histogram data sepal length, bins = ukuran barplotnya\n",
        "axes[0].set_title('Sepal Length')\n",
        "sns.histplot(ax=axes[1], x=sepal_width)               # visualisasi dengan histogram data sepal width\n",
        "axes[1].set_title('Sepal Width')\n",
        "sns.histplot(ax=axes[2], x=petal_length)              # visualisasi dengan histogram data petal length\n",
        "axes[2].set_title('Petal Length')\n",
        "sns.histplot(ax=axes[3], x=petal_width)               # visualisasi dengan histogram data petal width\n",
        "axes[3].set_title('Petal Width')"
      ],
      "metadata": {
        "colab": {
          "base_uri": "https://localhost:8080/",
          "height": 307
        },
        "id": "aciwYtt7cIru",
        "outputId": "bfad72b3-062e-4d8f-8a31-3c56921cbb10"
      },
      "execution_count": 13,
      "outputs": [
        {
          "output_type": "execute_result",
          "data": {
            "text/plain": [
              "Text(0.5, 1.0, 'Petal Width')"
            ]
          },
          "metadata": {},
          "execution_count": 13
        },
        {
          "output_type": "display_data",
          "data": {
            "text/plain": [
              "<Figure size 1296x288 with 4 Axes>"
            ],
            "image/png": "[encoded data removed]"
          },
          "metadata": {
            "needs_background": "light"
          }
        }
      ]
    },
    {
      "cell_type": "markdown",
      "source": [
        "## Set Feature dan Label\n",
        "Dilakukan pengelompokan data mana yang termasuk data fitur dan data mana tang termasuk label atau kelasnya."
      ],
      "metadata": {
        "id": "2U5Fu7sugIgV"
      }
    },
    {
      "cell_type": "code",
      "source": [
        "# Cek nama kolomnya apa saja\n",
        "df.columns"
      ],
      "metadata": {
        "colab": {
          "base_uri": "https://localhost:8080/"
        },
        "id": "alO6ubWufqcu",
        "outputId": "655dbf5c-b46d-4862-861d-aa12b7fbeaff"
      },
      "execution_count": 14,
      "outputs": [
        {
          "output_type": "execute_result",
          "data": {
            "text/plain": [
              "Index(['SepalLengthCm', 'SepalWidthCm', 'PetalLengthCm', 'PetalWidthCm',\n",
              "       'Label'],\n",
              "      dtype='object')"
            ]
          },
          "metadata": {},
          "execution_count": 14
        }
      ]
    },
    {
      "cell_type": "code",
      "source": [
        "# Definisikan Feature nya (X)\n",
        "X = df[['SepalLengthCm', 'SepalWidthCm', 'PetalLengthCm', 'PetalWidthCm']].values  # mengambil nilai/value dari tiap feature\n",
        "X[0:5]                                                                             # tampilkan data feature pada 5 baris awal"
      ],
      "metadata": {
        "colab": {
          "base_uri": "https://localhost:8080/"
        },
        "id": "16GCw3DDgVu2",
        "outputId": "4300c638-ac93-45b7-c9f6-6a2974256428"
      },
      "execution_count": 37,
      "outputs": [
        {
          "output_type": "execute_result",
          "data": {
            "text/plain": [
              "array([[5.1, 3.5, 1.4, 0.2],\n",
              "       [4.9, 3. , 1.4, 0.2],\n",
              "       [4.7, 3.2, 1.3, 0.2],\n",
              "       [4.6, 3.1, 1.5, 0.2],\n",
              "       [5. , 3.6, 1.4, 0.2]])"
            ]
          },
          "metadata": {},
          "execution_count": 37
        }
      ]
    },
    {
      "cell_type": "code",
      "source": [
        "# Definisikan Label/class nya (y)\n",
        "y = df['Label'].values    # mengambil nilai pada kolom Label\n",
        "y[0:5]                    # tampilkan 5 data awal Label"
      ],
      "metadata": {
        "colab": {
          "base_uri": "https://localhost:8080/"
        },
        "id": "thurwb5eg-v8",
        "outputId": "a2255c88-e67d-4acc-fed4-e49d2d3a43c0"
      },
      "execution_count": 16,
      "outputs": [
        {
          "output_type": "execute_result",
          "data": {
            "text/plain": [
              "array(['Iris-setosa', 'Iris-setosa', 'Iris-setosa', 'Iris-setosa',\n",
              "       'Iris-setosa'], dtype=object)"
            ]
          },
          "metadata": {},
          "execution_count": 16
        }
      ]
    },
    {
      "cell_type": "markdown",
      "source": [
        "## Normalisasi Data\n",
        "K-NN merupakan metode yang didasarkan pada tingkat kedekatan antar-atribut. Oleh karena itu, sangat disarankan untuk melakukan normalisasi data agar **perhitungan jarak menjadi lebih valid.**"
      ],
      "metadata": {
        "id": "j8TyMZ5yhTEt"
      }
    },
    {
      "cell_type": "code",
      "source": [
        "# Dari modul preprocessing, digunakan standard scaler untuk normalisasi Features.\n",
        "# Kemudian ubah hasil normalisasi menjadi tipe data floating point (float)\n",
        "X = preprocessing.StandardScaler().fit(X).transform(X.astype(float)) \n",
        "X[0:5]"
      ],
      "metadata": {
        "colab": {
          "base_uri": "https://localhost:8080/"
        },
        "id": "Bf9nBJtKocwL",
        "outputId": "1d5ed085-853a-4d57-aa9b-3a3374f5a504"
      },
      "execution_count": 55,
      "outputs": [
        {
          "output_type": "execute_result",
          "data": {
            "text/plain": [
              "array([[-0.90068117,  1.03205722, -1.3412724 , -1.31297673],\n",
              "       [-1.14301691, -0.1249576 , -1.3412724 , -1.31297673],\n",
              "       [-1.38535265,  0.33784833, -1.39813811, -1.31297673],\n",
              "       [-1.50652052,  0.10644536, -1.2844067 , -1.31297673],\n",
              "       [-1.02184904,  1.26346019, -1.3412724 , -1.31297673]])"
            ]
          },
          "metadata": {},
          "execution_count": 55
        }
      ]
    },
    {
      "cell_type": "markdown",
      "source": [
        "## Split Dataset\n",
        "Split dataset dilakukan dengan memuat pembagian dari dataset menjadi data training dan data testing. Rasio yang diasa digunakan adalah 0.3 atau 30%, yang artinya data training adalah hasil bagi dari 70% dataset sedangkan data testing adalah sisanya yaitu 30%."
      ],
      "metadata": {
        "id": "eyqF67Qxlc8G"
      }
    },
    {
      "cell_type": "code",
      "source": [
        "# Import train test split packages dari scikit learn \n",
        "from sklearn.model_selection import train_test_split\n",
        "\n",
        "# Split data X (features) dan y (label) menjadi data test dan data train dengan komposisi data test 20% dan randomstate 4\n",
        "X_train, X_test, y_train, y_test = train_test_split(X, y, test_size=0.2, random_state=5)\n",
        "print ('Train set:', X_train.shape,  y_train.shape)      # tampilkan ukuran data train features dan labels\n",
        "print ('Test set:', X_test.shape,  y_test.shape)         # tampilkan ukuran data test features dan labels"
      ],
      "metadata": {
        "colab": {
          "base_uri": "https://localhost:8080/"
        },
        "id": "Co9ipXKtliir",
        "outputId": "d5784e7e-34a1-4326-e975-14deb318c680"
      },
      "execution_count": 63,
      "outputs": [
        {
          "output_type": "stream",
          "name": "stdout",
          "text": [
            "Train set: (120, 4) (120,)\n",
            "Test set: (30, 4) (30,)\n"
          ]
        }
      ]
    },
    {
      "cell_type": "markdown",
      "source": [
        "## Klasifikasi\n",
        "Klasifikasi dilakukan menggunakan model k-NN atau k Nearest Neighbour. Digunakan library K Neighbours Clasifier dari Sci-Kit Learn. Pada packages ini harus di define terlebih dahulu nilai k yang diinginkan.\n",
        "\n",
        "Selanjutnya dilakukan training model KNN dengan menggunakan dataset train."
      ],
      "metadata": {
        "id": "bhu_jXXll_W3"
      }
    },
    {
      "cell_type": "code",
      "source": [
        "# Import library KNN dari scikit learn\n",
        "from sklearn.neighbors import KNeighborsClassifier\n",
        "\n",
        "# Define nilai k yang ingin digunakan, karena class berjumlah ganjil maka menggunakan k bernilai genap\n",
        "k = 4          \n",
        "\n",
        "#Train Model\n",
        "knn = KNeighborsClassifier(n_neighbors = k).fit(X_train,y_train)    #  Train KNN model ke data train dengan nilai k yang telah didefine\n",
        "knn"
      ],
      "metadata": {
        "colab": {
          "base_uri": "https://localhost:8080/"
        },
        "id": "1qEwSIlQl4TT",
        "outputId": "5af1d2e1-fb2f-41b4-e990-e6c1099f892e"
      },
      "execution_count": 64,
      "outputs": [
        {
          "output_type": "execute_result",
          "data": {
            "text/plain": [
              "KNeighborsClassifier(n_neighbors=4)"
            ]
          },
          "metadata": {},
          "execution_count": 64
        }
      ]
    },
    {
      "cell_type": "markdown",
      "source": [
        "## Predicting\n",
        "Prediksi dilakukan dengan menggunakan data testing. Ini dilakukan untuk mengecek performa dari model yang telah dilatih sebelumnya."
      ],
      "metadata": {
        "id": "JT4JneZqnWic"
      }
    },
    {
      "cell_type": "code",
      "source": [
        "# Prediksi hasil data test features ke model yang telah dilatih sebelumnya\n",
        "yhat = knn.predict(X_test)    \n",
        "yhat[0:5]                   # Tampilkan 5 data hasil prediksi teratas"
      ],
      "metadata": {
        "colab": {
          "base_uri": "https://localhost:8080/"
        },
        "id": "D9kmbpnvmcnE",
        "outputId": "0f969ed6-749b-47b6-a9ee-6256d38dfb92"
      },
      "execution_count": 65,
      "outputs": [
        {
          "output_type": "execute_result",
          "data": {
            "text/plain": [
              "array(['Iris-versicolor', 'Iris-versicolor', 'Iris-virginica',\n",
              "       'Iris-setosa', 'Iris-virginica'], dtype=object)"
            ]
          },
          "metadata": {},
          "execution_count": 65
        }
      ]
    },
    {
      "cell_type": "markdown",
      "source": [
        "## Evaluasi Metric\n",
        "Evaluasi model dilakukan untuk melihat seberapa baik performa dari model yang telah dibuat dan dilatih menggunakan dataset training. Hasil bisa berupa skor akurasi, presisi, recal, maupun f1-score."
      ],
      "metadata": {
        "id": "tUyVXvdSnfRm"
      }
    },
    {
      "cell_type": "code",
      "source": [
        "# import metrics library dari scikit learn\n",
        "from sklearn import metrics\n",
        "\n",
        "# Tampilkan hasil akurasi dari performa model\n",
        "print(\"Train set Accuracy: \", metrics.accuracy_score(y_train, knn.predict(X_train)))  # Tampilkan skor akurasi terhadap data train\n",
        "print(\"Test set Accuracy: \", metrics.accuracy_score(y_test, yhat))                    # Tampilkan skot akurasi terhadap data test"
      ],
      "metadata": {
        "colab": {
          "base_uri": "https://localhost:8080/"
        },
        "id": "cDxw6TwqmhwM",
        "outputId": "0acdecad-846c-4583-9edd-d952edb873cd"
      },
      "execution_count": 70,
      "outputs": [
        {
          "output_type": "stream",
          "name": "stdout",
          "text": [
            "Train set Accuracy:  0.9666666666666667\n",
            "Test set Accuracy:  0.9333333333333333\n"
          ]
        }
      ]
    },
    {
      "cell_type": "markdown",
      "source": [
        "# Find Best K value\n",
        "Performa dari model **K-NN sangat bergantung dengan nilai K**. Lalu bagaimana memilih nilai K yang terbaik? Jawabnya, kita harus lakukan pengujian.\n",
        "\n",
        "Kode berikut ini bertujuan untuk melakukan pengujian nilai **k dari k=1 s.d k=10.**"
      ],
      "metadata": {
        "id": "rT3eXbUBnv1a"
      }
    },
    {
      "cell_type": "code",
      "source": [
        "# Define range nilai K yang diinginkan, disini diambil 10 (1 sampai 10)\n",
        "Ks = 10\n",
        "mean_acc = np.zeros((Ks-1))   # Membuat array nol dengan panjang 9\n",
        "std_acc = np.zeros((Ks-1))\n",
        "ConfustionMx = []\n",
        "\n",
        "for n in range(1,Ks):                                                   # looping dalam range 1 hingga 9\n",
        "    \n",
        "    #Train Model dan Predict  \n",
        "    neigh = KNeighborsClassifier(n_neighbors = n).fit(X_train,y_train)  # train model knn dengan data train dengan nilai k sesuai range loopnya\n",
        "    yhat=neigh.predict(X_test)                                          # prediksi hasil dataset menggunakan model yang telah dilatih\n",
        "    \n",
        "    # Buat akurasi dari hasil prediksi terhadap data test\n",
        "    mean_acc[n-1] = metrics.accuracy_score(y_test, yhat)                \n",
        "\n",
        "    # Buat standart deviasi dari akurasi,\n",
        "    # Nilainya adalah hasil pembagian dari nilai standart deviasi data prediksi dengan akar dari jumlah data hasil prediksi\n",
        "    std_acc[n-1] = np.std(yhat==y_test)/np.sqrt(yhat.shape[0])              \n",
        "\n",
        "mean_acc        # panggil list akurasi model dari variasi nilai k"
      ],
      "metadata": {
        "colab": {
          "base_uri": "https://localhost:8080/"
        },
        "id": "MLHIacDan69F",
        "outputId": "dda8cd6d-85c5-45b1-899a-02f800fe9e3e"
      },
      "execution_count": 87,
      "outputs": [
        {
          "output_type": "execute_result",
          "data": {
            "text/plain": [
              "array([0.86666667, 0.9       , 0.9       , 0.9       , 0.93333333,\n",
              "       0.96666667, 0.96666667, 0.96666667, 0.93333333])"
            ]
          },
          "metadata": {},
          "execution_count": 87
        }
      ]
    },
    {
      "cell_type": "code",
      "source": [
        "# Visualisasi Performa\n",
        "plt.plot(range(1,Ks),mean_acc,'g')    # plot list hasil akurasi\n",
        "plt.fill_between(range(1,Ks),mean_acc - 1 * std_acc,mean_acc + 1 * std_acc, alpha=0.10)   # tambahkan sebaran standart deviasi\n",
        "\n",
        "plt.legend(('Accuracy ', '+/- 3xstd'))    # tampilkan legenda\n",
        "plt.ylabel('Accuracy ')                   # tambahkan label sumbu y\n",
        "plt.xlabel('Number of Nabors (K)')        # tambahkan label sumbu x\n",
        "plt.tight_layout()                        # untuk menghindari overlapping antara judul plot dengan label sumbu\n",
        "plt.show()                                # tampilkan grafik"
      ],
      "metadata": {
        "colab": {
          "base_uri": "https://localhost:8080/",
          "height": 297
        },
        "id": "IJ8giXA5oJHf",
        "outputId": "077c3ed5-ef51-444d-fbe7-d24a8dc5f547"
      },
      "execution_count": 91,
      "outputs": [
        {
          "output_type": "display_data",
          "data": {
            "text/plain": [
              "<Figure size 432x288 with 1 Axes>"
            ],
            "image/png": "[encoded data removed]"
          },
          "metadata": {
            "needs_background": "light"
          }
        }
      ]
    },
    {
      "cell_type": "code",
      "source": [
        "max_acc = mean_acc.max()          # cari nilai akurasi maksimum \n",
        "k_value = mean_acc.argmax()+1     # cari nilai K dengan akurasi maksimum tersebut\n",
        "print( \"The best accuracy was with\", max_acc, \"with k=\", k_value)"
      ],
      "metadata": {
        "colab": {
          "base_uri": "https://localhost:8080/"
        },
        "id": "7ejGjl9PoWZG",
        "outputId": "70453eeb-57ce-414a-b356-94da00883524"
      },
      "execution_count": 94,
      "outputs": [
        {
          "output_type": "stream",
          "name": "stdout",
          "text": [
            "The best accuracy was with 0.9666666666666667 with k= 6\n"
          ]
        }
      ]
    },
    {
      "cell_type": "markdown",
      "source": [
        "Dari grafik hasil akurasi diatas dapat disimpulkan bahwa model KNN akan memiliki performa yang maksimal ketika nilai k yang dipakai adalah antara 6 hingga 8. Model akan meiliki performa yang tidak bagus jika nilai k adalah pada range 1 hingga 4."
      ],
      "metadata": {
        "id": "hmgWNx7I42z6"
      }
    }
  ]
}