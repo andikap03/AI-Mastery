{
  "nbformat": 4,
  "nbformat_minor": 0,
  "metadata": {
    "colab": {
      "name": "HandsOn15_ANN.ipynb",
      "provenance": [],
      "toc_visible": true
    },
    "kernelspec": {
      "name": "python3",
      "display_name": "Python 3"
    },
    "language_info": {
      "name": "python"
    },
    "accelerator": "GPU"
  },
  "cells": [
    {
      "cell_type": "markdown",
      "source": [
        "# **Artificial Neural Network (ANN)**\n",
        "***\n",
        "Cara kerja Artificial Neural Network terinspirasi oleh kerja jaringan saraf otak manusia (Neuron) yang sebenarnya. Sangat jelas bahwa fungsi otak manusia begitu kompleks dan akan menjadi tantangan jika akan mereplikasinya. Kami mencoba melatih jaringan saraf untuk berpikir/memahami seperti otak manusia. Algoritma mengekspos dunia melalui data yang diberikan.\n",
        "\n",
        "Berbagai jenis neural network bertanggung jawab untuk berbagai jenis pembelajaran dan penyelesaian berbagai jenis masalah. Jaringan ini dapat dikategorikan menjadi:\n",
        "* **Artificial Neural Networks (ANN)** :\\\n",
        "Model pemrosesan informasi yang membantu dalam mengekstraksi insight yang berbeda dari data dan mencoba meniru kerja otak manusia.\n",
        "* **Convolution Neural Network (CNN)** :\\\n",
        "CNN melakukan operasi konvolusi pada data. CNN biasanya digunakan untuk gambar dan teks karena sangat bagus untuk ekstraksi fitur.\n",
        "* **Recurrent Neural Network (RNN)** :\\\n",
        "RNN bekerja dengan baik untuk data sekuensial seperti teks karena mereka mempertimbangkan input saat ini serta input dari waktu sebelumnya sehingga berkinerja baik pada data teks dimana urutan data penting.\n",
        "* **Long Short Term Memory (LSTM)** :\\\n",
        "Versi RNN yang ditingkatkan. LSTM juga berkinerja baik pada data sekuensial dan banyak digunakan karena mengatasi keterbatasan RNN."
      ],
      "metadata": {
        "id": "LnoCXj8CT-Uu"
      }
    },
    {
      "cell_type": "markdown",
      "source": [
        "## **Single Layer Perceptron Model**\n",
        "Perceptron adalah jenis Supervised Learning dari Binary Classification. Ini adalah algoritma klasifikasi yang membuat prediksi berdasarkan fungsi prediksi linier dengan kombinasi vektor weight.\n",
        "\n",
        "Cara kerja simple perceptron yaitu dengan mengambil input dan melakukan perkalian dengan matriks weight. Bobot sama dengan jumlah input ditambah 1 (bias). Setelah perkalian ini dihitung untuk semua input, kemudian dihitung jumlah input yang melewati Step Function. Step Function ini biasanya merupakan fungsi threshold di mana kita dapat menetapkan ambang batas untuk output yang diberikan. Keluaran jaringan di atas ambang batas dianggap sebagai satu kelas atau 1 (\"ya\") dan keluaran di bawah ambang batas dianggap sebagai kelas lain atau 0 (\"tidak\")."
      ],
      "metadata": {
        "id": "fmJGhLjiW_hP"
      }
    },
    {
      "cell_type": "markdown",
      "source": [
        "### Load Dataset"
      ],
      "metadata": {
        "id": "G0aWAZ6dwW0F"
      }
    },
    {
      "cell_type": "code",
      "execution_count": 37,
      "metadata": {
        "id": "ntFGafDMSeBb"
      },
      "outputs": [],
      "source": [
        "import tensorflow as tf\n",
        "from tensorflow import keras\n",
        "\n",
        "mnist = keras.datasets.mnist\n",
        "(X_train, Y_train), (X_test, Y_test) = mnist.load_data()"
      ]
    },
    {
      "cell_type": "markdown",
      "source": [
        "### Reshape Dataset"
      ],
      "metadata": {
        "id": "6Nm0CVe0wzS1"
      }
    },
    {
      "cell_type": "code",
      "source": [
        "# X_train is 60000 rows of 28x28 values; we reshape it to 60000 x 784.\n",
        "RESHAPED = 784\n",
        "\n",
        "X_train = X_train.reshape(60000, RESHAPED)\n",
        "X_test = X_test.reshape(10000, RESHAPED)\n",
        "X_train = X_train.astype('float32')\n",
        "X_test = X_test.astype('float32')"
      ],
      "metadata": {
        "id": "muBdpqhiwk59"
      },
      "execution_count": 38,
      "outputs": []
    },
    {
      "cell_type": "markdown",
      "source": [
        "### Normalize Dataset"
      ],
      "metadata": {
        "id": "5A2cTZlpw84V"
      }
    },
    {
      "cell_type": "code",
      "source": [
        "# Normalize inputs to be within in [0, 1].\n",
        "X_train, X_test = X_train / 255.0, X_test / 255.0\n",
        "print(X_train.shape[0], 'train samples')\n",
        "print(X_test.shape[0], 'test samples')"
      ],
      "metadata": {
        "colab": {
          "base_uri": "https://localhost:8080/"
        },
        "id": "zIDY9Ef7wodR",
        "outputId": "7af93dd4-b53c-4b1e-8505-5370d411aaa7"
      },
      "execution_count": 39,
      "outputs": [
        {
          "output_type": "stream",
          "name": "stdout",
          "text": [
            "60000 train samples\n",
            "10000 test samples\n"
          ]
        }
      ]
    },
    {
      "cell_type": "markdown",
      "source": [
        "### Labeling Dataset"
      ],
      "metadata": {
        "id": "bPhrBQxUxegz"
      }
    },
    {
      "cell_type": "code",
      "source": [
        "# Labels have one-hot representation.\n",
        "NB_CLASSES = 10\n",
        "\n",
        "Y_train = tf.keras.utils.to_categorical(Y_train, NB_CLASSES)\n",
        "Y_test = tf.keras.utils.to_categorical(Y_test, NB_CLASSES)\n",
        "\n",
        "print(Y_train.shape)\n",
        "print(Y_test.shape)"
      ],
      "metadata": {
        "colab": {
          "base_uri": "https://localhost:8080/"
        },
        "id": "i-DE9V_GxZG6",
        "outputId": "90f9132f-404f-4311-c210-b065565784d5"
      },
      "execution_count": 40,
      "outputs": [
        {
          "output_type": "stream",
          "name": "stdout",
          "text": [
            "(60000, 10)\n",
            "(10000, 10)\n"
          ]
        }
      ]
    },
    {
      "cell_type": "markdown",
      "source": [
        "### Build Model"
      ],
      "metadata": {
        "id": "bSxLMb0fx0tJ"
      }
    },
    {
      "cell_type": "code",
      "source": [
        "# Developing single layer neural network\n",
        "model = tf.keras.models.Sequential()\n",
        "model.add(keras.layers.Dense(NB_CLASSES, input_shape=(RESHAPED,), kernel_initializer='zeros', \n",
        "                             name='dense_layer', activation='softmax'))\n",
        "model.summary()"
      ],
      "metadata": {
        "colab": {
          "base_uri": "https://localhost:8080/"
        },
        "id": "jT82Q9ECx0Nc",
        "outputId": "69cf5cf8-de34-402f-cae2-e40e88a674a4"
      },
      "execution_count": 41,
      "outputs": [
        {
          "output_type": "stream",
          "name": "stdout",
          "text": [
            "Model: \"sequential_5\"\n",
            "_________________________________________________________________\n",
            " Layer (type)                Output Shape              Param #   \n",
            "=================================================================\n",
            " dense_layer (Dense)         (None, 10)                7850      \n",
            "                                                                 \n",
            "=================================================================\n",
            "Total params: 7,850\n",
            "Trainable params: 7,850\n",
            "Non-trainable params: 0\n",
            "_________________________________________________________________\n"
          ]
        }
      ]
    },
    {
      "cell_type": "markdown",
      "source": [
        "### Compiling Model"
      ],
      "metadata": {
        "id": "f-BarsN8yshe"
      }
    },
    {
      "cell_type": "code",
      "source": [
        "# Compiling the model.\n",
        "# Optimizers = Adam\n",
        "# Loss-function = Categorical-crossentropy (multiclass classification)\n",
        "# metric = accuracy\n",
        "\n",
        "model.compile(optimizer='Adam', loss='categorical_crossentropy',\n",
        "              metrics=['accuracy'])"
      ],
      "metadata": {
        "id": "l8-GU3hzysG5"
      },
      "execution_count": 42,
      "outputs": []
    },
    {
      "cell_type": "markdown",
      "source": [
        "### Train Model"
      ],
      "metadata": {
        "id": "6mt_Hv2rzyc8"
      }
    },
    {
      "cell_type": "code",
      "source": [
        "# Training the model\n",
        "EPOCHS = 50               # Number of iteration\n",
        "BATCH_SIZE = 128          # Number of samples per gradient update\n",
        "VERBOSE = 1               # Verbosity mode\n",
        "VALIDATION_SPLIT = 0.2    # Fraction of the training data to be used as validation data.\n",
        "\n",
        "model.fit(X_train, Y_train, batch_size=BATCH_SIZE, epochs=EPOCHS,\n",
        "          verbose=VERBOSE, validation_split=VALIDATION_SPLIT)"
      ],
      "metadata": {
        "colab": {
          "base_uri": "https://localhost:8080/"
        },
        "id": "EIWhBAizzyHb",
        "outputId": "e4bfa755-c0ac-4404-f9b6-d2f08c8cad50"
      },
      "execution_count": 43,
      "outputs": [
        {
          "output_type": "stream",
          "name": "stdout",
          "text": [
            "Epoch 1/50\n",
            "375/375 [==============================] - 2s 4ms/step - loss: 0.7289 - accuracy: 0.8480 - val_loss: 0.4036 - val_accuracy: 0.8995\n",
            "Epoch 2/50\n",
            "375/375 [==============================] - 2s 4ms/step - loss: 0.3857 - accuracy: 0.8979 - val_loss: 0.3316 - val_accuracy: 0.9114\n",
            "Epoch 3/50\n",
            "375/375 [==============================] - 2s 4ms/step - loss: 0.3359 - accuracy: 0.9077 - val_loss: 0.3059 - val_accuracy: 0.9157\n",
            "Epoch 4/50\n",
            "375/375 [==============================] - 1s 4ms/step - loss: 0.3130 - accuracy: 0.9142 - val_loss: 0.2915 - val_accuracy: 0.9205\n",
            "Epoch 5/50\n",
            "375/375 [==============================] - 1s 4ms/step - loss: 0.2993 - accuracy: 0.9175 - val_loss: 0.2841 - val_accuracy: 0.9227\n",
            "Epoch 6/50\n",
            "375/375 [==============================] - 1s 4ms/step - loss: 0.2895 - accuracy: 0.9185 - val_loss: 0.2773 - val_accuracy: 0.9231\n",
            "Epoch 7/50\n",
            "375/375 [==============================] - 1s 4ms/step - loss: 0.2826 - accuracy: 0.9219 - val_loss: 0.2752 - val_accuracy: 0.9244\n",
            "Epoch 8/50\n",
            "375/375 [==============================] - 1s 4ms/step - loss: 0.2774 - accuracy: 0.9223 - val_loss: 0.2710 - val_accuracy: 0.9246\n",
            "Epoch 9/50\n",
            "375/375 [==============================] - 1s 4ms/step - loss: 0.2728 - accuracy: 0.9237 - val_loss: 0.2686 - val_accuracy: 0.9253\n",
            "Epoch 10/50\n",
            "375/375 [==============================] - 1s 4ms/step - loss: 0.2693 - accuracy: 0.9252 - val_loss: 0.2674 - val_accuracy: 0.9257\n",
            "Epoch 11/50\n",
            "375/375 [==============================] - 1s 4ms/step - loss: 0.2667 - accuracy: 0.9248 - val_loss: 0.2648 - val_accuracy: 0.9276\n",
            "Epoch 12/50\n",
            "375/375 [==============================] - 1s 4ms/step - loss: 0.2635 - accuracy: 0.9265 - val_loss: 0.2624 - val_accuracy: 0.9287\n",
            "Epoch 13/50\n",
            "375/375 [==============================] - 1s 4ms/step - loss: 0.2608 - accuracy: 0.9278 - val_loss: 0.2626 - val_accuracy: 0.9273\n",
            "Epoch 14/50\n",
            "375/375 [==============================] - 1s 4ms/step - loss: 0.2592 - accuracy: 0.9280 - val_loss: 0.2635 - val_accuracy: 0.9276\n",
            "Epoch 15/50\n",
            "375/375 [==============================] - 1s 4ms/step - loss: 0.2573 - accuracy: 0.9279 - val_loss: 0.2610 - val_accuracy: 0.9293\n",
            "Epoch 16/50\n",
            "375/375 [==============================] - 1s 4ms/step - loss: 0.2560 - accuracy: 0.9276 - val_loss: 0.2623 - val_accuracy: 0.9291\n",
            "Epoch 17/50\n",
            "375/375 [==============================] - 2s 4ms/step - loss: 0.2541 - accuracy: 0.9294 - val_loss: 0.2602 - val_accuracy: 0.9293\n",
            "Epoch 18/50\n",
            "375/375 [==============================] - 1s 4ms/step - loss: 0.2524 - accuracy: 0.9299 - val_loss: 0.2617 - val_accuracy: 0.9294\n",
            "Epoch 19/50\n",
            "375/375 [==============================] - 1s 4ms/step - loss: 0.2517 - accuracy: 0.9293 - val_loss: 0.2594 - val_accuracy: 0.9302\n",
            "Epoch 20/50\n",
            "375/375 [==============================] - 2s 4ms/step - loss: 0.2500 - accuracy: 0.9306 - val_loss: 0.2601 - val_accuracy: 0.9301\n",
            "Epoch 21/50\n",
            "375/375 [==============================] - 2s 4ms/step - loss: 0.2493 - accuracy: 0.9307 - val_loss: 0.2598 - val_accuracy: 0.9302\n",
            "Epoch 22/50\n",
            "375/375 [==============================] - 1s 4ms/step - loss: 0.2479 - accuracy: 0.9315 - val_loss: 0.2595 - val_accuracy: 0.9296\n",
            "Epoch 23/50\n",
            "375/375 [==============================] - 2s 4ms/step - loss: 0.2468 - accuracy: 0.9310 - val_loss: 0.2597 - val_accuracy: 0.9306\n",
            "Epoch 24/50\n",
            "375/375 [==============================] - 2s 4ms/step - loss: 0.2461 - accuracy: 0.9315 - val_loss: 0.2579 - val_accuracy: 0.9304\n",
            "Epoch 25/50\n",
            "375/375 [==============================] - 1s 4ms/step - loss: 0.2451 - accuracy: 0.9319 - val_loss: 0.2608 - val_accuracy: 0.9283\n",
            "Epoch 26/50\n",
            "375/375 [==============================] - 1s 4ms/step - loss: 0.2443 - accuracy: 0.9325 - val_loss: 0.2600 - val_accuracy: 0.9301\n",
            "Epoch 27/50\n",
            "375/375 [==============================] - 2s 4ms/step - loss: 0.2439 - accuracy: 0.9323 - val_loss: 0.2588 - val_accuracy: 0.9311\n",
            "Epoch 28/50\n",
            "375/375 [==============================] - 1s 4ms/step - loss: 0.2429 - accuracy: 0.9321 - val_loss: 0.2590 - val_accuracy: 0.9310\n",
            "Epoch 29/50\n",
            "375/375 [==============================] - 1s 4ms/step - loss: 0.2420 - accuracy: 0.9325 - val_loss: 0.2601 - val_accuracy: 0.9301\n",
            "Epoch 30/50\n",
            "375/375 [==============================] - 2s 4ms/step - loss: 0.2413 - accuracy: 0.9331 - val_loss: 0.2579 - val_accuracy: 0.9315\n",
            "Epoch 31/50\n",
            "375/375 [==============================] - 1s 4ms/step - loss: 0.2411 - accuracy: 0.9325 - val_loss: 0.2588 - val_accuracy: 0.9312\n",
            "Epoch 32/50\n",
            "375/375 [==============================] - 1s 4ms/step - loss: 0.2402 - accuracy: 0.9338 - val_loss: 0.2593 - val_accuracy: 0.9304\n",
            "Epoch 33/50\n",
            "375/375 [==============================] - 1s 4ms/step - loss: 0.2397 - accuracy: 0.9337 - val_loss: 0.2598 - val_accuracy: 0.9318\n",
            "Epoch 34/50\n",
            "375/375 [==============================] - 2s 4ms/step - loss: 0.2389 - accuracy: 0.9343 - val_loss: 0.2598 - val_accuracy: 0.9304\n",
            "Epoch 35/50\n",
            "375/375 [==============================] - 1s 4ms/step - loss: 0.2385 - accuracy: 0.9339 - val_loss: 0.2590 - val_accuracy: 0.9313\n",
            "Epoch 36/50\n",
            "375/375 [==============================] - 2s 4ms/step - loss: 0.2377 - accuracy: 0.9336 - val_loss: 0.2613 - val_accuracy: 0.9303\n",
            "Epoch 37/50\n",
            "375/375 [==============================] - 1s 4ms/step - loss: 0.2372 - accuracy: 0.9342 - val_loss: 0.2622 - val_accuracy: 0.9304\n",
            "Epoch 38/50\n",
            "375/375 [==============================] - 2s 5ms/step - loss: 0.2369 - accuracy: 0.9339 - val_loss: 0.2590 - val_accuracy: 0.9311\n",
            "Epoch 39/50\n",
            "375/375 [==============================] - 2s 5ms/step - loss: 0.2362 - accuracy: 0.9348 - val_loss: 0.2602 - val_accuracy: 0.9312\n",
            "Epoch 40/50\n",
            "375/375 [==============================] - 2s 4ms/step - loss: 0.2364 - accuracy: 0.9347 - val_loss: 0.2588 - val_accuracy: 0.9317\n",
            "Epoch 41/50\n",
            "375/375 [==============================] - 2s 4ms/step - loss: 0.2353 - accuracy: 0.9356 - val_loss: 0.2608 - val_accuracy: 0.9310\n",
            "Epoch 42/50\n",
            "375/375 [==============================] - 1s 4ms/step - loss: 0.2351 - accuracy: 0.9346 - val_loss: 0.2598 - val_accuracy: 0.9308\n",
            "Epoch 43/50\n",
            "375/375 [==============================] - 2s 4ms/step - loss: 0.2349 - accuracy: 0.9351 - val_loss: 0.2610 - val_accuracy: 0.9308\n",
            "Epoch 44/50\n",
            "375/375 [==============================] - 2s 5ms/step - loss: 0.2342 - accuracy: 0.9353 - val_loss: 0.2629 - val_accuracy: 0.9306\n",
            "Epoch 45/50\n",
            "375/375 [==============================] - 2s 6ms/step - loss: 0.2337 - accuracy: 0.9356 - val_loss: 0.2630 - val_accuracy: 0.9308\n",
            "Epoch 46/50\n",
            "375/375 [==============================] - 1s 4ms/step - loss: 0.2338 - accuracy: 0.9352 - val_loss: 0.2624 - val_accuracy: 0.9308\n",
            "Epoch 47/50\n",
            "375/375 [==============================] - 2s 4ms/step - loss: 0.2330 - accuracy: 0.9357 - val_loss: 0.2616 - val_accuracy: 0.9317\n",
            "Epoch 48/50\n",
            "375/375 [==============================] - 2s 5ms/step - loss: 0.2327 - accuracy: 0.9355 - val_loss: 0.2606 - val_accuracy: 0.9304\n",
            "Epoch 49/50\n",
            "375/375 [==============================] - 2s 6ms/step - loss: 0.2323 - accuracy: 0.9359 - val_loss: 0.2619 - val_accuracy: 0.9308\n",
            "Epoch 50/50\n",
            "375/375 [==============================] - 2s 5ms/step - loss: 0.2319 - accuracy: 0.9352 - val_loss: 0.2612 - val_accuracy: 0.9310\n"
          ]
        },
        {
          "output_type": "execute_result",
          "data": {
            "text/plain": [
              "<keras.callbacks.History at 0x7fb7a4b1f710>"
            ]
          },
          "metadata": {},
          "execution_count": 43
        }
      ]
    },
    {
      "cell_type": "code",
      "source": [
        "import matplotlib.pyplot as plt\n",
        "\n",
        "plt.figure(figsize=[6,3])\n",
        "plt.plot(model.history.history['accuracy'])\n",
        "plt.plot(model.history.history['val_accuracy'],'r')\n",
        "plt.legend(['Training Accuracy', 'Validation Accuracy'])\n",
        "plt.xlabel('Epochs', fontsize=16)\n",
        "plt.ylabel('Accuracy', fontsize=16)\n",
        "plt.title('Accuracy Curves', fontsize=16)\n",
        "\n",
        "plt.show()"
      ],
      "metadata": {
        "colab": {
          "base_uri": "https://localhost:8080/",
          "height": 248
        },
        "id": "U9B5sQ-lDPRZ",
        "outputId": "923a0a9d-bb1b-44f0-de5a-504279c88f3f"
      },
      "execution_count": 46,
      "outputs": [
        {
          "output_type": "display_data",
          "data": {
            "text/plain": [
              "<Figure size 432x216 with 1 Axes>"
            ],
            "image/png": "[encoded data removed]"
          },
          "metadata": {
            "needs_background": "light"
          }
        }
      ]
    },
    {
      "cell_type": "markdown",
      "source": [
        "### Evaluate Model"
      ],
      "metadata": {
        "id": "J5c8H0Nw08IF"
      }
    },
    {
      "cell_type": "code",
      "source": [
        "# Evaluating the model.\n",
        "test_loss, test_acc = model.evaluate(X_test, Y_test)\n",
        "print('Test accuracy :', test_acc)"
      ],
      "metadata": {
        "colab": {
          "base_uri": "https://localhost:8080/"
        },
        "id": "EGE8CX1k07tH",
        "outputId": "1d3169f6-8370-4dfb-8d50-99f3e37078d9"
      },
      "execution_count": 47,
      "outputs": [
        {
          "output_type": "stream",
          "name": "stdout",
          "text": [
            "313/313 [==============================] - 1s 3ms/step - loss: 0.2677 - accuracy: 0.9282\n",
            "Test accuracy : 0.9282000064849854\n"
          ]
        }
      ]
    },
    {
      "cell_type": "markdown",
      "source": [
        "## **Activation Function**\n",
        "Fungsi aktivasi sebagai fungsi matematika sederhana yang membantu dalam memahami sesuatu yang sangat rumit dan pemetaan fungsional kompleks non-linier antara input yang diberikan dan output. **Fungsi Aktivasi** digunakan untuk menangkap properti non-linear ke network luar.\n",
        "\n",
        "**Tujuan utama** dari fungsi ini adalah untuk mengubah sinyal input menjadi sinyal output. Dilakukan jumlah produk (sum of product) dari bobot dan input yang masuk ke fungsi aktivasi. Keluaran dari fungsi aktivasi merupakan masukan bagi lapisan berikutnya dan seterusnya.\n",
        "\n",
        "Beberapa fungsi aktivasi adalah :\n",
        "* Sigmoid function\n",
        "* tanh function\n",
        "* ReLU function (Rectified Linear Unit)\n",
        "* ELU function (Exponential Linear Unit)\n",
        "* Leaky ReLU"
      ],
      "metadata": {
        "id": "9WGOm5D52Lrf"
      }
    },
    {
      "cell_type": "markdown",
      "source": [
        "## **Multi Layer Perceptron Model**\n",
        "\n",
        "Secara historis, \"perceptron\" adalah nama yang diberikan untuk model yang hanya memiliki satu lapisan linier saja, sehingga, jika memiliki banyak lapisan, disebut sebagai multi-layer perceptron (MLP). **Multi-layer Perceptron** memiliki tiga lapisan: input, output, dan tersembunyi (hidden layer). Lapisan input dan output terlihat dari luar, sementara semua lapisan lain di tengah tersembunyi, oleh karena itu disebut lapisan tersembunyi atau **hidden layer**.\n",
        "\n",
        "Dalam konteks ini, single layer perceptron hanyalah fungsi linier dan oleh karena itu, multi-layer neural network diperoleh dengan menumpuk beberapa lapisan tunggal satu demi satu. Pada MLP, setiap node di lapisan tersembunyi pertama menerima input dan diaktivasi (0,1) sesuai dengan nilai fungsi linier terkait. Kemudian, output dari lapisan tersembunyi pertama diteruskan ke lapisan kedua di mana fungsi linier lain diterapkan, yang hasilnya diteruskan ke lapisan output akhir yang terdiri dari satu neuron tunggal.\n"
      ],
      "metadata": {
        "id": "KxGUEAg65cp3"
      }
    },
    {
      "cell_type": "markdown",
      "source": [
        "### Load Dataset"
      ],
      "metadata": {
        "id": "tHRd7IdW7ZJH"
      }
    },
    {
      "cell_type": "code",
      "source": [
        "import tensorflow as tf\n",
        "import numpy as np\n",
        "from tensorflow import keras\n",
        "\n",
        "# Loading MNIST dataset.\n",
        "# You can verify that the split between train and test is 60,000, and 10,000 respectively.\n",
        "# Labels have one-hot representation is automatically applied\n",
        "mnist = keras.datasets.mnist\n",
        "(X_train, Y_train), (X_test, Y_test) = mnist.load_data()"
      ],
      "metadata": {
        "id": "n_yL92g37TYz"
      },
      "execution_count": 49,
      "outputs": []
    },
    {
      "cell_type": "markdown",
      "source": [
        "### Reshape Dataset"
      ],
      "metadata": {
        "id": "WllmRakv7v7A"
      }
    },
    {
      "cell_type": "code",
      "source": [
        "# X_train is 60000 rows of 28x28 values; we --> reshape it to 60000 x 784.\n",
        "RESHAPED = 784\n",
        "\n",
        "X_train = X_train.reshape(60000, RESHAPED)\n",
        "X_test = X_test.reshape(10000, RESHAPED)\n",
        "X_train = X_train.astype('float32')\n",
        "X_test = X_test.astype('float32')"
      ],
      "metadata": {
        "id": "wzinSTo27y4J"
      },
      "execution_count": 50,
      "outputs": []
    },
    {
      "cell_type": "markdown",
      "source": [
        "### Normalize Dataset"
      ],
      "metadata": {
        "id": "68npCbF_75bV"
      }
    },
    {
      "cell_type": "code",
      "source": [
        "# Normalize inputs to be within in [0, 1].\n",
        "X_train /= 255\n",
        "X_test /= 255\n",
        "\n",
        "print(X_train.shape[0], 'train samples')\n",
        "print(X_test.shape[0], 'test samples')"
      ],
      "metadata": {
        "colab": {
          "base_uri": "https://localhost:8080/"
        },
        "id": "wI5BMByG78AS",
        "outputId": "72b563f6-6d13-473f-a856-61e9f72f1c6b"
      },
      "execution_count": 51,
      "outputs": [
        {
          "output_type": "stream",
          "name": "stdout",
          "text": [
            "60000 train samples\n",
            "10000 test samples\n"
          ]
        }
      ]
    },
    {
      "cell_type": "markdown",
      "source": [
        "### Labeling Dataset"
      ],
      "metadata": {
        "id": "IG0raJnc8DLV"
      }
    },
    {
      "cell_type": "code",
      "source": [
        "# One-hot representation of the labels.\n",
        "NB_CLASSES = 10 # number of outputs = number of digits\n",
        "\n",
        "Y_train = tf.keras.utils.to_categorical(Y_train, NB_CLASSES)\n",
        "Y_test = tf.keras.utils.to_categorical(Y_test, NB_CLASSES)\n",
        "\n",
        "print(Y_train.shape)\n",
        "print(Y_test.shape)"
      ],
      "metadata": {
        "colab": {
          "base_uri": "https://localhost:8080/"
        },
        "id": "cL_TV83W8Dsv",
        "outputId": "c6fcb7ad-96ee-46d8-8d2c-e71258273ceb"
      },
      "execution_count": 52,
      "outputs": [
        {
          "output_type": "stream",
          "name": "stdout",
          "text": [
            "(60000, 10)\n",
            "(10000, 10)\n"
          ]
        }
      ]
    },
    {
      "cell_type": "markdown",
      "source": [
        "### Modelling"
      ],
      "metadata": {
        "id": "PURVfoqP8pFZ"
      }
    },
    {
      "cell_type": "code",
      "source": [
        "# Build the model.\n",
        "N_HIDDEN = 128\n",
        "\n",
        "model = tf.keras.models.Sequential()\n",
        "model.add(keras.layers.Dense(N_HIDDEN, input_shape=(RESHAPED,), name='dense_layer', activation='relu'))\n",
        "model.add(keras.layers.Dense(N_HIDDEN, name='dense_layer_2', activation='relu'))\n",
        "model.add(keras.layers.Dense(N_HIDDEN, name='dense_layer_3', activation='relu'))\n",
        "model.add(keras.layers.Dense(N_HIDDEN, name='dense_layer_4', activation='relu'))\n",
        "model.add(keras.layers.Dense(NB_CLASSES, name='dense_layer_5', activation='softmax'))\n",
        "\n",
        "model.summary()"
      ],
      "metadata": {
        "colab": {
          "base_uri": "https://localhost:8080/"
        },
        "id": "zz4jGQ-c8mvw",
        "outputId": "55974c9f-d384-4ae4-9f33-b5094e5ab019"
      },
      "execution_count": 53,
      "outputs": [
        {
          "output_type": "stream",
          "name": "stdout",
          "text": [
            "Model: \"sequential_6\"\n",
            "_________________________________________________________________\n",
            " Layer (type)                Output Shape              Param #   \n",
            "=================================================================\n",
            " dense_layer (Dense)         (None, 128)               100480    \n",
            "                                                                 \n",
            " dense_layer_2 (Dense)       (None, 128)               16512     \n",
            "                                                                 \n",
            " dense_layer_3 (Dense)       (None, 128)               16512     \n",
            "                                                                 \n",
            " dense_layer_4 (Dense)       (None, 128)               16512     \n",
            "                                                                 \n",
            " dense_layer_5 (Dense)       (None, 10)                1290      \n",
            "                                                                 \n",
            "=================================================================\n",
            "Total params: 151,306\n",
            "Trainable params: 151,306\n",
            "Non-trainable params: 0\n",
            "_________________________________________________________________\n"
          ]
        }
      ]
    },
    {
      "cell_type": "markdown",
      "source": [
        "### Model Compiling"
      ],
      "metadata": {
        "id": "1Q5C82b79hqA"
      }
    },
    {
      "cell_type": "code",
      "source": [
        "# Compiling the model\n",
        "model.compile(optimizer='Adam', loss='categorical_crossentropy', metrics=['accuracy'])"
      ],
      "metadata": {
        "id": "3VeYni_Q8-yc"
      },
      "execution_count": 54,
      "outputs": []
    },
    {
      "cell_type": "markdown",
      "source": [
        "### Train Model"
      ],
      "metadata": {
        "id": "KE75R8Nl9m-N"
      }
    },
    {
      "cell_type": "code",
      "source": [
        "# Training the model.\n",
        "BATCH_SIZE = 128\n",
        "EPOCHS = 20\n",
        "VERBOSE = 1\n",
        "VALIDATION_SPLIT = 0.2 # how much TRAIN is reserved for VALIDATION\n",
        "\n",
        "model.fit(X_train, Y_train, batch_size=BATCH_SIZE, epochs=EPOCHS, verbose=VERBOSE, validation_split=VALIDATION_SPLIT)"
      ],
      "metadata": {
        "colab": {
          "base_uri": "https://localhost:8080/"
        },
        "id": "xtnG4B9U9K-_",
        "outputId": "94eebbca-254a-44ec-a4d0-806ed13b8e58"
      },
      "execution_count": 55,
      "outputs": [
        {
          "output_type": "stream",
          "name": "stdout",
          "text": [
            "Epoch 1/20\n",
            "375/375 [==============================] - 3s 6ms/step - loss: 0.3512 - accuracy: 0.8963 - val_loss: 0.1696 - val_accuracy: 0.9505\n",
            "Epoch 2/20\n",
            "375/375 [==============================] - 2s 5ms/step - loss: 0.1295 - accuracy: 0.9606 - val_loss: 0.1208 - val_accuracy: 0.9637\n",
            "Epoch 3/20\n",
            "375/375 [==============================] - 2s 5ms/step - loss: 0.0886 - accuracy: 0.9726 - val_loss: 0.0993 - val_accuracy: 0.9703\n",
            "Epoch 4/20\n",
            "375/375 [==============================] - 2s 5ms/step - loss: 0.0675 - accuracy: 0.9787 - val_loss: 0.1001 - val_accuracy: 0.9700\n",
            "Epoch 5/20\n",
            "375/375 [==============================] - 2s 5ms/step - loss: 0.0537 - accuracy: 0.9829 - val_loss: 0.0947 - val_accuracy: 0.9732\n",
            "Epoch 6/20\n",
            "375/375 [==============================] - 2s 5ms/step - loss: 0.0399 - accuracy: 0.9876 - val_loss: 0.0947 - val_accuracy: 0.9732\n",
            "Epoch 7/20\n",
            "375/375 [==============================] - 2s 5ms/step - loss: 0.0350 - accuracy: 0.9886 - val_loss: 0.0995 - val_accuracy: 0.9728\n",
            "Epoch 8/20\n",
            "375/375 [==============================] - 2s 5ms/step - loss: 0.0282 - accuracy: 0.9914 - val_loss: 0.1069 - val_accuracy: 0.9717\n",
            "Epoch 9/20\n",
            "375/375 [==============================] - 2s 5ms/step - loss: 0.0272 - accuracy: 0.9912 - val_loss: 0.1060 - val_accuracy: 0.9739\n",
            "Epoch 10/20\n",
            "375/375 [==============================] - 2s 5ms/step - loss: 0.0230 - accuracy: 0.9926 - val_loss: 0.1282 - val_accuracy: 0.9696\n",
            "Epoch 11/20\n",
            "375/375 [==============================] - 2s 5ms/step - loss: 0.0233 - accuracy: 0.9926 - val_loss: 0.1247 - val_accuracy: 0.9702\n",
            "Epoch 12/20\n",
            "375/375 [==============================] - 2s 5ms/step - loss: 0.0199 - accuracy: 0.9932 - val_loss: 0.1195 - val_accuracy: 0.9722\n",
            "Epoch 13/20\n",
            "375/375 [==============================] - 2s 5ms/step - loss: 0.0199 - accuracy: 0.9938 - val_loss: 0.1085 - val_accuracy: 0.9752\n",
            "Epoch 14/20\n",
            "375/375 [==============================] - 2s 5ms/step - loss: 0.0190 - accuracy: 0.9933 - val_loss: 0.1176 - val_accuracy: 0.9735\n",
            "Epoch 15/20\n",
            "375/375 [==============================] - 2s 5ms/step - loss: 0.0141 - accuracy: 0.9956 - val_loss: 0.1181 - val_accuracy: 0.9734\n",
            "Epoch 16/20\n",
            "375/375 [==============================] - 2s 5ms/step - loss: 0.0136 - accuracy: 0.9957 - val_loss: 0.1278 - val_accuracy: 0.9732\n",
            "Epoch 17/20\n",
            "375/375 [==============================] - 2s 5ms/step - loss: 0.0160 - accuracy: 0.9945 - val_loss: 0.1174 - val_accuracy: 0.9768\n",
            "Epoch 18/20\n",
            "375/375 [==============================] - 2s 5ms/step - loss: 0.0124 - accuracy: 0.9958 - val_loss: 0.1088 - val_accuracy: 0.9772\n",
            "Epoch 19/20\n",
            "375/375 [==============================] - 2s 5ms/step - loss: 0.0107 - accuracy: 0.9967 - val_loss: 0.1189 - val_accuracy: 0.9757\n",
            "Epoch 20/20\n",
            "375/375 [==============================] - 2s 5ms/step - loss: 0.0124 - accuracy: 0.9960 - val_loss: 0.1230 - val_accuracy: 0.9762\n"
          ]
        },
        {
          "output_type": "execute_result",
          "data": {
            "text/plain": [
              "<keras.callbacks.History at 0x7fb7a8b38590>"
            ]
          },
          "metadata": {},
          "execution_count": 55
        }
      ]
    },
    {
      "cell_type": "code",
      "source": [
        "import matplotlib.pyplot as plt\n",
        "\n",
        "plt.figure(figsize=[6,3])\n",
        "plt.plot(model.history.history['accuracy'])\n",
        "plt.plot(model.history.history['val_accuracy'],'r')\n",
        "plt.legend(['Training Accuracy', 'Validation Accuracy'])\n",
        "plt.xlabel('Epochs', fontsize=16)\n",
        "plt.ylabel('Accuracy', fontsize=16)\n",
        "plt.title('Accuracy Curves', fontsize=16)\n",
        "\n",
        "plt.show()"
      ],
      "metadata": {
        "colab": {
          "base_uri": "https://localhost:8080/",
          "height": 248
        },
        "id": "Ei0OVhaDEfEb",
        "outputId": "3e3342b8-12ad-4e88-fc25-cc6b97bb3c5b"
      },
      "execution_count": 56,
      "outputs": [
        {
          "output_type": "display_data",
          "data": {
            "text/plain": [
              "<Figure size 432x216 with 1 Axes>"
            ],
            "image/png": "[encoded data removed]"
          },
          "metadata": {
            "needs_background": "light"
          }
        }
      ]
    },
    {
      "cell_type": "markdown",
      "source": [
        "### Evaluate Model"
      ],
      "metadata": {
        "id": "cRiE_Er595Rb"
      }
    },
    {
      "cell_type": "code",
      "source": [
        "# Evaluating the model.\n",
        "test_loss, test_acc = model.evaluate(X_test, Y_test)\n",
        "print('Test accuracy:', test_acc)"
      ],
      "metadata": {
        "colab": {
          "base_uri": "https://localhost:8080/"
        },
        "id": "wDt81qVA94-_",
        "outputId": "57addb83-fd02-43ff-b4a9-5341b78a6c53"
      },
      "execution_count": 57,
      "outputs": [
        {
          "output_type": "stream",
          "name": "stdout",
          "text": [
            "313/313 [==============================] - 1s 4ms/step - loss: 0.1264 - accuracy: 0.9752\n",
            "Test accuracy: 0.9751999974250793\n"
          ]
        }
      ]
    },
    {
      "cell_type": "markdown",
      "source": [
        "## **Back Propagation**\n",
        "\n",
        "Multi-layer neuron belajar dari data train melalui proses yang disebut **Back Propagation**. Proses ini dapat digambarkan sebagai cara untuk memperbaiki kesalahan secara progresif setelah kesalahan tersebut terdeteksi. Pada awalnya, semua bobot memiliki angka acak. Kemudian, network diaktifkan untuk setiap input dalam train-set: nilai-nilai disebarkan ke depan dari tahap input melalui tahap tersembunyi (hidden-stages) ke tahap keluaran (output-stages) di mana prediksi dibuat.\n",
        "\n",
        "Karena diketahui nilai pengamatan yang sebenarnya dalam train-set, maka mungkin untuk menghitung kesalahan yang dibuat dalam prediksi. Kunci untuk backtracking adalah menyebarkan kesalahan kembali, menggunakan algoritma pengoptimal (optimizers) yang sesuai untuk menyesuaikan bobot jaringan saraf dengan tujuan mengurangi kesalahan.\n",
        "\n",
        "<br>\n",
        "\n",
        "![11111.PNG](data:image/png;base64,iVBORw0KGgoAAAANSUhEUgAAAiMAAADCCAYAAACbrcK/AAAAAXNSR0IArs4c6QAAAARnQU1BAACxjwv8YQUAAAAJcEhZcwAADsMAAA7DAcdvqGQAAHGISURBVHhe7d0HnDVFlT5+RMxiACOYMGBEzAkVMOdV14ARA+aACczKmrMiBhSzksyKmDChmANr3DWnXfMq6q6bt/+/b/19xnqbOzj3fefO3Dtzns/nfDpVV1dXd1U9dc6pqu2GQqFQKBQKhXVEkZFCoVAoFArriiIjhUKhUCgU1hVFRgqFQqFQKKwriowUCoVCoVBYVxQZKRQKhUKhsK4oMlIoFAqFQmFdMVMy8n//939N/uM//mP42c9+NvzpT38a/vd//3fpWrbL7WcbEc8vf/nL4Q9/+MPSOfH1YSK5N9te/vu//3v41a9+Nfz2t79t++PrhUKhUCgU1g4zJSOIgsb+5JNPHm5729sOxx133PBf//VfrcHvSUkvzvfi/my//vWvD/e5z32GY445Zvif//mfLa5HnM818eUZfZif/vSnwwMe8IDh2c9+9vDrX/966XrSUCgUCoVCYe0wczKCGHziE58YznWucw2HH3748O///u9Ljf5YeoJhH3FJHM595jOfGS51qUsNz3/+87e4J4TEsS0NivMJ41zE8Q9+8INhjz32GPbbb7/hF7/4Rbvf+Ty3UCgUCoXC2mGmZCSN/Ec/+tHhHOc4x/CKV7xi+M///M92bUwUcoys/O53vxt+85vfDP/6r//ayEGIRcjIC17wghbuX/7lX4bf//73S6Ql8eT4lFNOaWGYdcSRMN/97neHK17xisPd73734ec///lS/CE1hUKhUCgU1g4z9xnR0H/yk59sZIRmZExGevne9743POpRjxpuf/vbD7e5zW2Gv/3bv20EBvFw3+c+97lh9913Hx772McOT33qU4db3/rWLax4kRJEwvP4prznPe8Z7nKXuzTzkHiYdpx3/fvf/34jI3e9612Hf/7nf166z1Y6CoVCoVAorB3WxIGVZoSZ5pWvfGXTPuRatBDOnXTSScPFL37x4UIXutBwk5vcZLjVrW41XPrSl24k5o1vfGMjC5/97GeHy1zmMsOOO+7Yrgmz5557tuODDz54+Ld/+7dGXF74whcO5z//+YcrX/nKwy1ucYvhmte85nDOc56z+YnQuiA9zDTICDONuAmNSqFQKBQKhbXFzH1GkA4+IwjDq171qiUTSogKobFgekFGDjvssEYYaDqOPfbYdu6hD31o8wNBRphpLnvZyw4f/OAHW7gvfOELw01vetOm6fjSl77UiMYlL3nJYd999x0+//nPN4LCLEM7cr7znW844YQTlnxGaE5CRgqFQqGwsZE2p9/P8aJho2nyZ0pGYvr4+Mc/3jQTTC7IiAx0Pj4atgiCcIiD/S9/+cvN/IJ83P/+99+CjBx00EHNbONe27e85S3DxS52seHoo48e3vve9w5nP/vZm7kHGfniF7/YSMqTnvSk4fSnP/1wyCGHnEozUigUCoWNj56A9LKImPQeZFGxJmTkIx/5SCMjyAUyErOIjHPdvnlIXvKSlzTTC23Iuc997nbPGc94xuGAAw5YIiN8Rt7+9rcv3Uc+/elPN7PN6173uuGII44Ytt9+++FsZzvbsPPOOw877bRTE3EhKUjJP/zDPyz5jBQZKRQKhc2BSY31ojbgaT8jOV5UzNxMQ0488cTm+8FMg1TkPJGBTDJPf/rTG2m41rWuNTzmMY8ZXv/61zdBGsaakSOPPLLdR6PiPI3KJS5xieZb8oY3vKH5pzz60Y9uZh7ytre9bTjqqKOa5oTGhQNraUYKhUJhcyHEQ9ujI5s2aAznJp2fJySNY1lUzNyB1QdHRqIZ6clIfoYf/vCHw9577z3ssssuwz/+4z82kkGOP/74YbfddjuVZuTOd75z8xdx7x//+MfhKU95ynCRi1xk+MAHPtD8UxAfZhokxzPci5Dc7na3G9761rcO3/72t4uMFAqFwiZDGmtb7Qdk22MRGnbpznto5yKLijXRjCAIZzrTmZoJ5mlPe9rwrGc9q8kzn/nMphFBMjihMqu8+c1vbvODfOhDHxr22WefJTONUTKZZ4Tm4znPeU7TcLz4xS9uRMQInJ/85CdtRlXalV133bXF/+Mf/3h43/veN1zhCldo8X/4wx9uPilG4RQZKRQKhc2DnnjY11G1xIh2opcf/ehHTcbn50mSRtNT9PNtLSpmrhmROYbt8gE5z3nOM1zgAhdow24jSAIywiRDW4FYMM1c/vKXH254wxu2c4bnIhCcUa92tasN17ve9dp9hvle9KIXHa5//eu3uUxoUzBDhOOWt7xlGyYsHtoV8RixQ5NCE3Pd6153uN/97td+RPdIZ8+WC4VCobCYSH3ei3O9mFSTltyM3g960IPaUiP3vve9h/ve977D/vvv3/adm1eRTmnk1vDOd76zTeCZASL9O2d/3rEmZESDz+n0He94x9I28v73v78tWEfzgWy86U1vasSENoNT69e+9rVmfjGTKq0HZ1jExNwlwvEF8UNldA1igZTQmjDJvPa1r22+JH//93/fnuG6ocTuN8omi/ct0kcrFAqFwmkj7U/q9n5rygdrnSEizPemguAqQBtP7DuX43mVpNMcWlwRQkjy3pFFaNdmTkbi/5EM6bUQOZ9jWxmJWIyv5d5sCRWbcH2cCUPEFZkU36R920KhUCgsLsb1e8Q57cG3vvWt4UUvetFwhzvcoc3S/eQnP3mp40q4C9jqHM+rGKzx8pe/vGl1WAIe8pCHtA64jnvayLzzIrRrM/cZ6X8CW+iPSZ9xkWRgruc40hOcHCdc4uqPx/vET5nzEfcVCoVCYfGhPk8bQWhEvvrVrw7Pe97z2pIjyIgGHTnRHixSW6Dt4l9pNKnRo9wZ7nnPezaLg5Xp+/dZhHZtzchIJOdsZWa/bzuWXCfCJNyYfCQMcY9zwiQcGcfVb3OtUCgUCosN9Xnq9GyZ5JnrLRdiRm6jMp/73Oe2EZwx4ff3zLtIp/YtAz4e9rCHNUJCU0JD8qtf/WqL9m3eMXMzDZFhybyc689nS/rMi+TYNj/M+Pyka2NJ3L1MiqtQKBQKq4vUtZEg++Pr4/OTMOlazpHU+YjIN7/5zUY+LK6KiDDTOMfcP6ndmXeRXukmVrm3RAoNCY2PwRkWi+V3SUMy6f7IvGCmZCSY15cvFAqFwtqg7/DxC/zDH/5wKo3EcoTA+UmYFLYXHV3P+MY3vtE0IpxVkRFExMAHZhvhFhHSLe8A4TAQ5FOf+lTzHbGiPUJCQ4KQyIfl8nZeMHPNSLYlJSUlJZtPQjIgDSITgukYmE04XNJOTOrB5177y2F8D3GPhhoRYYbhI2JhVETEFA+emxGYwi8ipDtkJPmEkBx33HFt0s+b3/zmwwMf+MA27Fd+h5DknSPzgjUhI9C/fElJSUnJ5hUOlrQThqQiCuaaCimZ1FhmOwl92L6xpfU4+eST2/BdmgJExCzgyAmzjTBxEVhE5H0BKbFva3ZyTq2PfOQj2ygb85EY9mtyNO871pLMC4qMlJSUlJSsqSAjZsi+ylWu0iamNHmXVd1pLGI6CbFI+3FaSLy5h5bFqBmmGSNmOKwiPUbN0Jb08f61uOcVfdqzT0JIzM+FkJj5nIbEOm18S3oyMk9YEwdW4uVlkoywLSkpKSnZXJL633TmyIjV1k9/+tO3VdbNqn3ggQe2hVARCQ1qhqf+tYZTmAhflMwjcsc73rERkZe+9KVtAk2al7RHK4l3npG05z0i8jc+JCeccMISITFrq2G/Yx+SecHMyYgXljlURNRjvJct4V9SUlJSsvEFMSDZt2VGQDws57Hddts1sQ6ZdccsB/LQhz50OOaYYxqB0KhqPNPYBjlOO0OYX6zMzi+EsyoyYv2y7373u0sakcSRexcV3iXbvAvJcQiJ2cZ7DUmcWrXLuQf6bfbXEjMlI8kUjkKmcX/lK185HHbYYcOhhx5aUlJSUrKJ5CUveUnTUNi3QKo5Mc573vMukZGelFjB/cY3vnHTbiAvvUZjvI1oZ5AO99zpTndqZAQp+cpXvtJMP2l8NzqSH97VO3NeNczXPCR8ZxASTq6WV0me9PdE1hozJyPgRzIGGkNlw7MtKSkpKdkcgiAgBtk/5JBD2mgPK6lvv/32S0TkdKc73bDDDju0BVUtgGp1dtqUjLQZN5hEg2rRu35mVaYZpCdEZjOhz5vkl4nRDPs1yoaGhI8OzVOcWieRkrXGTMkIeCkv+k//9E/NRGNxImO+S0pKSko2h6TeTxtAU/7whz+8rdIeEnKGM5xh2GmnnZrvCDPN0UcfveQ7ksYykgbT+UxohujQiDDNGEHjHNOMxhbWq5Fda/T50+cTQnL88ce3fDfKxkytFq61kC2yJwzZkGSkz5C8aElJSUnJ5pL0viNxYN19992bJuTsZz97G1WjoXzLW97SRtXEV0T7kbYk7UkEEUFuaEQseEcj8rKXvawRkQzf7e+xv9HRv29/LN8Nn+bUGg0Jp9Z3vetdwy9+8YulvE6erTXWxEyTF8y2UCgUCpsDfd2fLTLyrGc9a9hjjz2aw+r+++/fhvbShDC5JFzu6Y8jyAbSgoiYQ8QQXiYgAyX4j2h8c1+/v5HR54/37c8hG4SmKYSE3465Xgz7jckm4dcaMzfTQF5svV6yUCgUCuuHnlDY/uQnP2kOraYspyE56aSTmkNlJj1L2ITPfo4REWYffiHMMsgI0wwyMx41A/39Gxn9O463yVcmGYTkfe97X9NEZZQNJ9eYbBLPWGaJNSEjhUKhUNic0Ij1hMJ+poM30mVMQhI2W7BPu+GY5sR9NCIa0v322294+ctf3taaQVKEK5wayU/5Q5jBfINHPOIRTUPCZGOmVv6dyevcE5kliowUCoVCYWboG7Ls633//ve/XyIPafzIcg2hY1oPGpGYZjisGqFpxI1rCVc4Ncb5KZ8zUyuHYaOQDjjggKW1bPJdIPfMEkVGCoVCoTAz9A1gGsRxw0g0fOPrtjlvrhDOqswxHFWZZxAR5CQ+Iv29hb9AfiRv+rylkaIhMQkdHxLzkNzrXvdqTq18SMa+N7NEkZFCoVAozAxp+NKY2aaBi4RIRHpiATQoFr0zVwkicuc737n5nMQ0k/gjhS2RfE7+9PucVjPKxqy4TF+cWs3UGpNNws8SRUYKhUKhMDOk0SN9w5YGsm8YIxpIYM7ROzd52XOf+9xGRIyaMacIcuLaOI4cF/6CPm/6PLIvr30XphkmGz4k5iFhsqEhsbjemCzOAkVGCoVCobAu6Bu5NI4ECXHMWdXwXeaYzKxqSZHvfOc7S0SksG3wDQApscjgiSeeuLSWjZlaObUa/eR6T2LIaqLISKFQKBTWBWnU+kYu+3xE+IMgIvER4S8SZ9VoTwrbBnkNIRt//OMf2/ItMdkY9mvq+GhI8n1Wm5AUGSkUCoXCmiPEY0xGNHg0IlbsZZqx4B0fETOrMtcgKRrO1WwINzPkY8Q3oJUy34jVfh/96Ee3Yb80JHFqlfdjUrIaKDJSKBQKhXVBGjPbmGxoPUxeRgvCP4RWhOPq9773vaXhu5HCtiH5GK2I/XwLQ68REhOjGWVjgjrrBSEqCU9WC0VGCoVCobDmSMOXBpHQepjOnUaENsR6M8w0yEn8SCK5v7D16POyF+cQEsTjQx/60JIPyf3vf//h3e9+96nWslkNFBkpFAqFwsyRhi7oG8KYZr70pS+19WWYZviIHH744VsM3yWQuPr4CluHaKR6yGfnbfuZWmlI7nvf+zanViYbYWD8Lbbm2xQZKRQKhcLMoFEK6ch+JA2eybestEsjwjSDiDDNOFejZtYe+T6+Fw2ImVqPP/74panjObWah4RTa2+yyT2RaVBkpFAoFAozQ09AxvskM6syx9CIMM1Ya6YnItM2bIVtQ75T/71OOeWU5kPCZENDYi0bTq0//elPtyAk+a7ToshIoVAoFGYKjVPMAWngHHNIZZrJ8F2L3tGIfPe7311atyYNXGHtkG+UvLeNhuQjH/nIEiExMdqxxx47/OxnP2vX83235nsVGSkUCoXCzJDGrN8SphmkIzOrkkMPPbQN6e1X8U34wtohxLHPf4JwmDreTK3WsmGyQUje8573tNWXQx5z3zQoMlIoFAqFmSENGaSRy8yqVt/Vww4RMXw3RES4rW3YCtuGfLP+GxDfjzDZnHTSSUvDfhESw36tZbO1prUiI4VCoVCYGcYNG7JB+2EeEWYZRMQIGn4jzDZp+Mb3FtYO+VbjfM+3CCGhIXnMYx7T1rKxuN473vGONuzX9WlRZKRQKBQKM0UIhrlCzKLKLyTDdzmrmluEI2sau8J8AsnItyRMMx/72Me2MNm8853vbERlWhQZKRQKhcJMkcaLCt9S9SY0u8lNbjI8+9nPbvOIOK+hKzIy3+jJSPbN1GpitAc96EHDPvvsMzz96U9v2pFpUWSkUCgUCjNDCAZBOo477rjh5je/+XD7299++PCHP7wFEdG4FRmZT/TfJ4TEPqdW5OPFL37xcN3rXnc4+OCD24Ro037HIiOFQqFQmBk0ShHE433ve1/TijDTfPrTn15q1AhSUphP+D49Gck3I3/4wx+GV7ziFY2MMNlwZJ0WRUYKhUKhMDP0jVY0I8gIx1VkJBNmuR7Vf2H+0H/HSL6b0VGvfOUrh+td73ptpV9kxPlpUGSkUCgUCjND33iNyYjhoTHREI3bPJGRNLZJV443M/L++WaE83GRkUKhUCjMLdJgQcw0N73pTdsaNDHTBH3Y9UZPPmyjtZmX9M0TQkauf/3rNzLCZ2RaFBkpFAqFwszQE4xFJCPMSL32Zl7SN08oMlIoFAqFuUbfgC8SGYkmhEg3sV9k5NQoMlIoFAqFucaik5E//vGPbe2VN73pTW1dliIjp0aRkUJhSqQi6be99Bhf2yiy3LsF4+NCYVvQ/0+LREaSFnNo3P3udx+ufe1rt4X9cn4suSfbsSx3nix3LZh0jcwLiowUClMiBTjDCdPzsQT2T37ykyX56U9/uiHlxz/+cfN0/9WvfrX0/r09HJybp4qusNjo/61FIiOBsmLG2Ktc5SpLZGRS2XEc/5Kxn0nC9mEiuZbz4zDje22JeOcFRUYKhSmRiiEF3KJdn/jEJ4anPe1pbbKeRz7ykU36/Y0ij3jEI9p7Pe5xj2sq59/85jdLlRvIj1Se81TRFRYb/f+00chIv68sIfymRj/22GOHt7/97W1lYnNwuK582f/iF7/YFpR729ve1magdY98cf+f/vSn4atf/Wob/nzUUUe1uKzl43yekefNE4qMFApToq88VAAKurUUbnzjGw/Xuc512jh5olCZTdB2I0jea6+99mrq5nvd615tgSvrSsiLNAL9fqGwGuj/p41CRiBb6bcAIOJgbZbznve8LezFL37xYbfddmv1y+9+97sW5pBDDhkufOELD5e+9KWHq171qsP5zne+4QY3uEGbb0XHCIHZc889h0td6lLD1a9+9eGiF71oi0fnYawdmad8KjJSKEyJVHYKtgrirW9963DXu961TcD0lKc8pU1pfPjhhw9HHHHE8OpXv3p41atetWHE+1iY7B73uEdb8vt5z3ve8P3vf3+Lym3eKrnC4iNlDjYCGUl6+7RqfK21s/POO7dy9o1vfGP44Ac/2MjJLrvs0rQgwiAnyt6JJ544fP3rXx9e85rXDOc617kaSfnlL3/ZOgl77LFH6yhYyfjII48cLnGJSwzXuta1Wt6pt5TXecunIiOFwpRQgFUm//7v/z58+ctfHh7/+Mc3rYgt9Sg1qkLvuu1GEe9D1csfBjG59a1vPey///7Du9/97uG3v/3tUuU2b5VcYfHR/1P+xY1ARpLOmDaRC1qOJzzhCa0OQRgIMwxNyAMf+MDhm9/85rDrrrs2jatl9vlvKY+Ix49+9KNmNtVRuNjFLtbMOFYzZsL51Kc+1cw96TR4ZrQk84IiI4XCMkhlEenPKcgqGIWHRoSnvJ6LRjkFvK9wNoJ4H4KUUAk/5jGPGW51q1s1EqaSVNHJl/7dC4XVQP5BWCQyIh3SRmMxyWfENqTgve9977DTTjs1rYjjEAb3Mrvc5S53aYTj4Q9/eNOeMOXQmtz73vde0poom6973euGy1zmMsPZzna2ZqZBTg477LBmThZvZN5QZKRQWAap1FIx5JxjGoLPf/7zw8Me9rC2RsaznvWs4Vvf+larKIWBeSzw24Lkh7z4+c9/PrzlLW8Z/uZv/qY1CHpp5k8IIfHuyYdCYVuRfw8WjYwoDxrW5RxYIwgFMsK3IxoM8utf/7qRkdvc5jZNy2Ek29FHHz0ceOCBw+Uud7lhxx13HC5ykYsMf/d3f9dWvtUh+sAHPtA6CXxJxElufvObtw5U0jRP+QRFRgqF00AKbC8KMtXo85///GaquN/97tdUqYb3pgLJvRsJ/fvbsmkbVXOzm92s9dY++clPtp5ZwpFCYTXQ/0+LREakS3mJmYbD6Xe+852WvlxDPBwrP+c///kbqfCOIfaf/exnm8+HMsYHhI/al770pXZdOCNrOLPuu+++zX8LEREXZ1dhaERucYtbDOc+97nbfamjxN3n23qjyEihsAwU1FRqqTxsTznllDaU9wEPeEAzU7zsZS9r5ETh7+/p9zcCvEufDzQh/EWYqG5729s29bKeW8jKRnr3wvqi/58WjYxIC00iMoI0GLKLYPDj+MxnPtOIA8LAv0NDTNuBUBilRtt6z3veszmocoz/whe+0EjFHe94x+a8qgHnC4Lk6BQwl/Jfu8Y1rtFIiuvi3W+//ZpZh09br3WZJxQZKRSWQSo1kkpFQ6t38tSnPrVpRR784Ac35zFD6vrwvWwkeB95IR+QLxUdE5WeF3JmaGK0I4XCaqEvS4tmplFOaEakdYcddhjOc57ztNExF7rQhZp5hUOq+XuMzDMvyJWvfOV2Hrm42tWu1pxXDzjggDapIu2rOsf9/EGYSYW/7GUv20bw6SDYXvKSlxwuf/nLtzrKMHzPEocGPxqReconKDJSKCyDFNaIHgVvdWpSFQsbLvsuG65r4/CRjYK8j4osogI1CsBwQo3DC17wgiUtUaGwWujL0qKREY0/EkEjYqQM0yZ/jic+8YntmLzrXe9qHRpE/nOf+1xzDn/IQx7SGuVjjjmmaVZS5uy//vWvb5MQCnPQQQe1TgB/EddtaVYQHNeF49/FEdb1aC7tz0s+QZGRQmEZ9AXWVmVx8sknDwcffHBzBlPYv/KVryxpRQL7vWwUjN+LyBeV44te9KJmsuI/Y24EKuZc78MXCluD/v9ZNDLSp2d8DONztsg8J3nvOr5GvK9rwgib8724jtz0cYxlnlBkpFBYBgp8GlNbhSMjSO50pzu1mQ4zlHfeCvZaQiViZJHeHJJmtki27uVMV4XCtOj/nUUiI4WVo8hIobAMUqmp6FSAnM2oWGkAqFg5kDm/2cmI92cTN78BksZkY9bHnqj1UihMi/7fKTKyMVFkpFBYBqnU2FiZIg499NDmEHbf+9632WTT2BYZ+f/J2te+9rU2LNHcBpzskDVq4jEhKRSmRf/vFBnZmCgyUigsAxWaSo5DmBEzSAityAtf+MLmpBmtSBrbzYrkE3LGEc+wQ6TtjW9845Iza8JUI1HYGvhv8u8UGdmYKDJS2PToK6/sExWchtQkRSY4M3z1QQ96UJsfIEt6p4HtK8PNhj6vMtSX74jZaZm2jCRIGNsejiOFwnLo/5H1ICOJk/jPpWE56cOuRIJJ13rpwyy3T1IWJ43wG4ftpb/W7/cySxQZKWx69IUtDWb2DeXlqGpiL2vQmHgo054nXOLYzGDKIrz7TzjhhOH+979/c/SlRfrhD3+4Rb72yLnNnn+F00b/j2jw15qMiF+ZN9eHOYYsWmfYrM6J/Ww5cdMGKgvuIfZTX+S8/VzP/njbx5Hz4zCEo7jZkE046Dm2z3zmM9tQ4sTh/PjZfRw57q+NNZq2s0SRkcKmR18I+4Kn0uP38KQnPalVfIb0qvg0uLmHJI7NiuQZUelZe0OlwqRlka6PfOQjLc9UhuN8yn3j84VCj/4fWSsyknginmGmVLOoms3UOjNmPjX5WPZvdKMbtZFk0NclvSgHGvpJ50mIC+kJxKR7iHlJ+Gkxkcobs7CaMO2QQw5ZCgOJqycmY8nz7Xtm9smsUWSksOmRgh9R8BRCI0RMLmQaZ6NELMlNK5KCmfCwFoV1XuHd5UMqOJWKqaj1FG95y1sOz3jGM5pzqx6cMGP0+VgoTEL/j6wVGcl/Tfy3tog2MrL//vu3dWBMeEhbQhvByf0Xv/hFSx/HbXXIpIY95cSxfeHtKzeZWyTX+3C2TJ7iThzipbk1S6sRbO7l42aK+O9973tbaDfsi5+J2X4fR/ZtibQI14exnSWKjBQ2PRS0sSi0FpVKg/q0pz2t+Y70c2f0mHVBnXf0eacCM9vjq171quH2t799azDMIonIuTbOu0LhryH/FqwHGSGO+UTtvvvuzUQTXyjpyfU05ojJc57znLbuDBIRQmFCQGtZ6ehofI844oh2DpF46EMf2oRp0/3Cuw9xQO6ZhzyXKcgs0GY/Fr+O0jnOcY62FR9ypOxZvFOaxGHl3ze84Q1tNlYmJXMBISzpIFhvy9pS/OGkz2g4C/MhBwiWMLNGkZFC4f8hFY5CR/R6zJtxu9vdrvWCqEDHPYX+vhxvRvR5QOSPSk4F+tjHPrapjJm6TIyWipsUCitF/8+sFRlJPMp89mlGLnOZy7SZhpFrnRaiISUhDzoyO++8cyMkzoeoKA9XuMIVWscGQbjWta7V1qaxlsyee+7ZVufdcccdG+kwOs27mkaAKciKvtaqQYYueMELNkKBdFjH5oxnPOOw2267Nd82i+Fd5zrXaXMiSc+Pf/zjll6mJYvwicvCe9asef/739/Sxs/FNc+/wAUu0NJy0YtetIV78pOf3MjKrFFkpFD4fwjBUGHo8Rx//PHDve9977b+zItf/OItlv22DVJJbWb0eWCbPKIdsaqvFUM5s3L+5RAsj/sKvlD4a+j/lfXQjIAtzQgzDbnLXe4y3O1udxvuete7Nt8oGocvf/nL7T5E/HznO19zJI1JpCcjSI2ygBAgIy996UubRgOJQd4RHr4gP/rRj4Yb3vCGLUzMxJak4COCmEiPThNy8prXvKYRHM6sCAcfN52CZz/72Y1UWMiSMzmSQ0uCeIib5oOZCckhTNPika/Ssccee7TFQVcjT08LRUYKmx6pcIiKg631uc99bhvKa1QIB0w9A9fHZKSwPNi2VZa0IvKSCtoS6HqSISPys29ICoVJSPmEtSIj0Mdlq1OigWYW0Zjbt2KuRvya17xmqyt6MsJfCiFIvUFb0ZMRGgzz8iAdwqh/nvKUpwwXv/jFh49//OPDJz7xiaahMKtxTMS2FqdEKMTxzne+s5EVo2fcj4wgORbQQyp0BjjXIjEhRdaOct191tdCUqQrGhlpEQ7Z8o4c+ZMPs0KRkcKmh0JGFD6F+73vfW8bxksrotfBSc21VCizLpQbBfKMMx2beIb6skf/4Ac/WDLXyFNSKJwW+nK33mQE8TABonpBw01bod6wlTb/Pa0GbQWtBPItfUgEzcgVr3jFJTMN0sCPw/3CMKu452IXu1jzB/Geu+yyS/MFQTSIcJ4RkxDtI1LBj8Sx0TSIEc0I84sRPjoD/FDc6z3cS5OCMJnQkSnnyle+ctPkIAV5b3MF0QLxL5k1iowUNj0UOoVbQVboFEgVnZ68Ho5CkgqgMB3kmQrxJS95SSMjbNdMYDRNqRizLRSWQxpHmAfNCAdPPmQadc/OVhjbaEb4dUhvriMx0YwgL8iI1b/tu1c49Q//DySBTweiwcTpfnWUMiU8vzYmZeabC13oQk0z4n5khC8KR1cEhNnHJIQa96RDPPxN+IdwdGWmQUYs5xDyJCwygnwZDZd8mBWKjBQ2PRQyBVwDedRRRy3ZgWlF+D24pnCmopl1odwokG8qNJWMilUP0NwjKmiVsQqx8rSwEvg/8o+sNxlhnuEfggh4LkkdYUuYJ4UzAoZGxDmNPJIQB1YjaphpjFoxMkYYZQIZiZmGOYaZhk+K9/YM26OPProtucDHBLnvzTQhI7QwNC7MNExJwoaMMNMgGsgI840Ow5WudKVWNvvZpXXIkBGmH8ezRJGRwqaHSkZBMKztUY96VFNpqhBMcBQ7bQqibSqnwmlDPhGVLOc8a9Xc9ra3bfO2UClTU7uWcIXCcuj/kXnRjDBBOpc6IVv/tMadpoEj6Uc/+tGmWXje8543nP70p29kBFlh4gkZsQ/uNQIHAUFEmE+M6DOS5rWvfW3ThoiPGcZEa3xNPvvZz7brj3/845v/h2e5jozIK+YYI3v4phhpwyeOKcg55dGzPccIGmQEaQLv4j03vGbEi0XyEft9W7IaSDy2PnaeUdh86P+p/HN6CxpL/gwKvuFxKruYEhK2MB2Sv4Qzq54ZskdtzJFPBdev6tvfM97fFvi+iasnP8Sz+29MthX9+yT+xJ2e6dY+J/FAH+9GR/+e60FGktcacj4UMdPket+u2JdGDeo5z3nONmyXnwgSg4iEjNBaMNMoEzQj7qXZsLYTrQrnVfF86EMfag20ic2QF8+nOTn88MNbeM6l/FM41epIISc0I3xGpIUJBuExtBfh2GuvvVq69t577+bP5Z8MGTGfUk9GaEake0OSES/ko0Uc59x4m0pkWyGu/Cy9FDYf+n8s+yoCZgQTnPFr0DNROBX0wtajz+vk89ve9rbhnve8ZxsWmVV9QxByz1i2FeLoy7/jfn8s2wpxiLsnQXlW0tGfnwbJK/f1cdpuZCS/YC3JiHj7b+Yf5qNBiyod0BNMIjzhr2Gki0U2X/CCFzSNBpOIGVOZSRDx97znPc2/xH7u1/Azw7hf3MTQWpoRo/wOO+yw9nyNt+eop8xF8vKXv3x485vf3BxrObWKN2nhYyKMCdXUb29605ualsc7SDuTk7mUaE76/1beKrPR3MwS60pG+v2IjMt+MmRbkfhksvjz3MLmw/jf8j/wX1BA+TPo8XAaU8BX49/b7Eg+p/yxPatQ2bv1ulSqy2lHcrwaSPz9dhZ1DfTPGT9rfI1Mg/H99nO8kZH3hbUiI+IQb99mRPrvmf1sIftEXUISZnwvGe8rKwmfsOJIG+Zc356N74s4n3NJRx/GPX3YxN1Lws8a60JGkgHJKNJnVPbD2rYVeVYyNs8vbD74D/oCyO6rd3Kf+9yn2U+pPtll6//YdsjDvrwTPSze+2a1NXRab44WKhWesEHu3Vb0lax6JWlJ/L04v63o48pz+m0kddE06OPIOzk3bTyLhv4d14qMJG/7PCbJd9LXJ9nmXCRhEyb3Z5v/INIf9+EirvuPx+cnheuPc66P136247CRxCvMLLHmZKR/QSorzjXGUJsXnxrKNvvUWhwItxWe5yN4JjtdKr/C5kNf6FRqnFT5LzDPcPjKpFyuz7rwbXT0eW2fKHec7sxqSzvCZMNuTf2dMpl8X61vkDSkUvWcSNKY9K3G88TRx53n5tn91rVp4Z7Eme1GR/9t1ouMjJFvZ5twCUv6b+R7TyLC9qG/f9L18X/Th8vzSa7nOGmYJK5n24tzfZwg7bPGupARL6rCf9GLXjSc5zznacK5xrjsHBtyZDiTSmpbIUN9JHFRw3suG1lh8yGF05bTKtuqxdyIoXFGeCh4fUEsbB0mVXj2Of5xzjvggAPadNRs6hm5BL4N5L5thTjEyUbOLPSZz3xmOOmkk1ojZt+z+3lPVgOJS73j2RwfEd0MmzRtOCdGDes0cC8xYyaHYP/raqZ7XuH98o5rRUYgedtLYN/3zfl8m4QZn8v+cudyPClsJPVXvy/8pPPZ7+PL/2g/5xMm2/H57NvOEutippEhfihT5Z797GdvqnFOO+zJJp2ydawHJWwykGgoSJ+pJJlGxJ1n5Box86Px2CaZQUbGGe0e6M/Z5v6EyfmE8ZxxmoRP2D6M6/154Qprh+Q5Mszr3MRAVuU1BTOv9HzDfPPC1iP51+ejffnLcZVWVGNi9JJVfZXJ5D2sVvkQh/JnbggjDgyDNEmUuoAYiWBrem1kof/+kaTFNtdzjuScbc77l2z5xBghYR4H/kmONaQ6RuaaSJy2Y3FevUFLbF4IJMQ5ToxGZRhpIZznJHyfhknb/rr9fjuvkLaIbxkyYqZkZKSvU/N+q4E+T/L8oD8eX4OcW6ms9J5g0rVp5LTiWO7aamEcr++l7CEj173udVu9zBF3WmyVz4gCZkyzIUYnnHDCFj+RbSQFmm1fgTQ/gR6s6XadS+NBmGD0fHj/qtz8sLyQPYs3MS/onXbaqf3A7NbC8x7WS+md6GhQ9NxkhvhVIMIgSuKWDrZv1xAcDo+exxs5zxMXEc60vu6TbqM2UgFFPLOwNpDXvhtTnR+f3wJTgW/nu7tO6rvMBslfZFDPnmnMUN8nPOEJzWwb7UjCrQbE45tr/GlddUZ8e7NaGs5t2CMyYsik8pk6JWkg/oectz/peqQPQzSeVj41xJM/kmOjK4xoiEZG3Lkn9UfOqS/4MxmuScPivPrriU984tJkVAmfZ+dekvQlPf21hLeddySvezJCo4mM5D0W5V02K/INie+UfdCeK5PXu9712nDnNSMjfiiaEeQAu+8LRQpVxBAnszde6lKXauOriZUEFWhsSuGlReGdL4xJWozTNr8/NbCZ7KhIja/eYYcdhnOf+9xNFWRRI9NTs12baTM/sx6yceFU+OK3oqKFhqySqNIyPhs5QWTE71kqGuKa56lskR3jto3Tli5iml+Nn/R6t/5jFGaH5LPv65uqzPWUTZNsMqJvfetbW1TmtoXZIN+BiQFBv9Od7tQmZDLjrU6DawmzGvAtfVvr4yiDOj/qH/WGTogOgxE+NCR8WaiLaWmUX0RAOacyFl5czjHt6Jwox8InvcSzEFv/lHuZA83EiewgI667r4/TOc9zj3hpjjJzJ/PSTW5ykzbJlXpMmoVFTKLJ8VznkWx1E82yMOLPfy1N8lfdZJZOz5EecaxWXs8SKcMhI0gsMqLjmPfMNxCuMH9IOenLS/aVQ52DaEaUj2m/49RkxIP9UBpqalMs6C1veUtzWtVbMFaaU5tCgy0deOCBw1nOcpa2oqDek8LmJ0QqMgzz0EMPbcRGQ88WS2Mh3sRvXLdKyDG1sEpCGLNBmnimX0RIIeXDIi3SYDbOM5/5zI3MsG97ljAqB+TC2G3qU9oP5/RgpIGWBhFR2TqmYfFsM9+peFUQpDBb+KYR/4rvgIAgIkZ16Fn5zxIm/wEprC6Sr0QdoAzSkPoWyvfnP//5JRPqauW/eHx35FPHIdoP35nYN9sl080hhxzSKkVaFPXC5S9/+WZKNqOl/4aW0/Lt6hHLsiMwKs50ZhAInREV6o477tg0vyaqco/OCgLhvXViPAMhc4/nOydO94hXBww5QdTOcIYztNk71UvqSqRJ3aJDpQ5RcdOU6CyJQ/o8l8YPSVGP0T55H746TFXCEQ7clpFfrfyeFfJPyD+dCSY+hMS6R+pf5/Nd5/1dNjNCnn2jtIHqX2XLP7/PPvs0s/makhGake22224461nP2gogckEUECsNYvF6BQrQ5S53ucb63YfJq1D0NExUhfHrYbGpavTFrwDyCaBBEUZh1NtQWJETcZiZDlEIGUnmIDycaRV6FSMyQr1rDQA/u8rDGibCUPmqiDxPnMiKdznyyCNbgaHFUQkiL1Sy0mc4owlppNPzquDMFvI3/x1SqlelQkZo9YgzuVC+RQpKfZfVhzzt81m5ZD69973v3UY0KRsIimurhZQz9YDOA7LQaww0ZMooAsB8o8z7P053utO1Kb0tbqbB1kHi96FMqyxf//rXt3U/NOy0tDQk6hTESt3ANGNkoAZTPUdjGzKiwrUsPDLCtIuI0NqI1+hCc96c7Wxna6SDCVhdZ4pwxI1WxnnHJrISn9k2dXLkofulB/nxTJ0idZOKHqFxTkdQHDpOZva0UrW8mGekTHpf9am8MuOodaR0YOW9eng1/53C6sN/1tex6mQaP9+T/54JEX1PnYJpMTUZkRg/lEYeEdEboeHQSGjw7dNiaPT5hmS0jYJP/Hx+QoWP3RBpkXAe8pxhmWu8ENuTXs0DHvCA9pOqdPR+EAiFE/PCrsdkxPz+KhOEQgUjnRYaUpHIRHFxSJN2mhDpsbhatCx6MRo5xAPZkQY9Mv4J7lMZ+gCel49SWF3I0+Rr9jU+Kn7rMvhvDjrooPbP+J6u+xb5HraF1Ye87SsjWxoHplBlmtlU2Vc+8z1yXy/TQHjfHuFQFnV0aMSQAWWXBkHDT3vBB0O9g4CksVcH6PDoxNDQauyVX0RKZ0m5v8Y1rtH+LeHVVVY/9V8hPciDRh8J8K7iZ85FwJh8aElpdWlcc4/KmZ8IQoOcIRnicL+6U9iLXOQizcTN1KIDhwRJj/uJzpT6Tvr0PI1Q8BwEyTsJQ7OirkMCHc8r+m/vn5B+bYMGTB2u/vVe6mj5m/9rLIW1w6R8t59yrUwq5zQizJjx30PyKQ78j9N+s60mIxpmmhAFarmHYvXIiIKsMkE0bAk1JxUdMoJJ6T0obCoXlQxNiZ6QsH5edlqFk9lH7weTpgLtyQgx3E9vR5wySzppWJAZmagS0kNRsUW9rNflOYiPdCFUCoUKyuye1jzZZZddhjOd6UytErF8c18pF1YX+Za9IKymIFdxIYnMcBoD36Cwtui/i4aSmSLT8StbGuCUD7BNWSHTQHgVn3Kpo6D8MXEo0wQxVa8gAMKpBGlG9t1331Ypeq56QKO+/fbbN98TmgiigWe+pYVQqdKs2OfHkPQiGBYx80yNpfiRERPt+f+YT9RvHHrBewvjGhLEhMKvTb2GeLiOvHkP2hoEiDZWp0k9l7xCXGhcaHPUb9JKy8yfBKRN/cS3jq3eu88r8t1J3i89ap1ZmiQdVUQxDVn+n6pn1wf5Vv23I/ke2mAWAuUIETGVB2KuncYPtuabbbWZRqWDjChQzk2CAooYUHVqTJg6vIQCiqhQ1ym0VO7CGS6INAjLL0ThU8khBio4ZCRmGo5lNCjICC1JMoDaGAHSWCnczEk0I3E6Fc5cJeyyvH89S5rEKYzehjRIo0rJljpWWjFAvRgjehQm8U2b4YWVIT8/8f05Jhs5wRlQA6BSdt43KKwd+u9CNILKH58xjQqimInQUiGNZRqkvtFR0IAr17QVGmKaBF77CJF0iDtkxH/CBOscZ1AdD6YbnR5m45iPbTX6euo6Hhp32h3x+b9IHFgnkREjipiDaFI9K+mQZkRGGFoj9RSC4X6aEZob+USbjIx4ho6S6+7XKCMxzD/ekZkG+eKHAsIsGhnxLfNP2Kp3+Rkhe/4dGi8aIfWvfBiHL6wd0rYl/yP+M+WNG4W2VQcEkVT+J323aTAVGfEAifFATF7DnLHyk4DRU58qbGynCqaGHQlg69SjQTKoXo144dyKQNB6POlJT2qmFGTEOXEpjAiIykhciIl4LEyk4nE/lobYMNPINOk0ph/RkHaZrLJRGbD9MrsIp6JR4SFYnFlVerQhmLu4FRyVh56TCtc9y713Ydsw/vlVxn52Pz4nYoSz8n99IM+Jb5N930jZ0zBrQJUZvSb1RCq1yLTfzP1EXcHfQwfB8TgdeY5nIgo3vvGNlxw7dRyUWR0QPmXICbJkK92G+6uXNOohCciEONU9TMPLkRGOp9LVz5eh06X+0LAiKdGMICOu04yot2hFvI90icez8h5MThxvmZC8hx6oUYLqPhBm0chIIA+kl3hneadhY9qiFdc+8DFE5pIf7imsHZLnff733wuBjEbEHD/RaAkX6b/5SjAVGQEP8ZP0ZhrnJkHirR2i4CmwzCoqBQWI2pOazssxkTCbULnq1Wh0mGz0ZOzTXqg4+HggGjQpfEOohdiLaT5oKxR4s7/GZ4S2w0+OxGRYnrSqLJw3ygYJwsjjx4LlyViVASLFMU7cbNTCShd1bjQxhdWHnzgFwL/m56cV8X/ovaqE+4ausHbwTUj/jYiG2TxCyrdyzkyqzCZcxDebBsIrt+oI5hCdB+fG6SCO/RfqkJ6MqGM09nxG1Fv+KWGVc2VfZ4iWBSlRfzDlpCH0r9GeLEdGOMPrlPEzo0VxXb1mKgH1lGfIk4zoEWc0I8iI6zo9zEW0fXkHfiDqI/4v6isdL2RkETUj0H+nCHhfZJF5nXYIcWNSU3/rqKbOTvjC2qD/TvKfKEfx9dEuZ/XuaPzG99hOg60y03iwETCcj/Qslnuogkewec4tCpw5QlQsyER+NCYXTMuQOo6rer8aIB7jHMVcVzlY0hlpwMg4L8ocvQxxUoOqhGSWykTF4rqfmsaDZiVpl14qURoVP7+KQhwaOj4s0ixt1E7iVPlImw+AXIlXXMJNm+GFv478yLY0WkY56TVxkER+aalcjxTWDn2+R1IWzH/B+RNpRB75YWigx2GngXuUWWVah0a5zv+hjPZxJ6wyy0yDjCRt6gVOpEy46gMdGYQFkWD203GhHdEzp6lQ0apbkAq+YpPIiPDOqRd0Wvh1cMJntkEkzHWkrtCRoeVFemhCmIl10GhopU09p5OlM6Wjoy6ULmYkmhx1H4ftPffcc2HNNPlmvXh34pp8YtZHGtXv2gC+eQiJPJ/2vylsG+R3vplvpM7lG8Yp26gZGhFuFawY6Zj390SmwdSaEZA4yINPC0mUHwrDx4Lt9/eJR5xU7146lcz4xYRxLT9nwiAW4pUpCZt4IeFyLeKcgi5dKqM+fK4T6SKJv49rIyHvn/eDWb5j8rCX5Hn+B0Os/fgqKA0I9a1r8/ANkoY+v+xnG+nTmXOTkLjG9/XH2e/D2/bHawHP6sVzaUI4f+vZ6jTo3etIpLxHpoHwyh1ndw0U360+rkigfqClMH+IjoVr0ua83jdSg5Rc/epXb74izB+0E8L4rxAq5ibEgInEv4dYIRR8Y8TDid4z1BveDWHQwdIh0rFRWTM1RLtivhDkSIdGJ04HCemhQXFdPPKKb51nSp9OGOKNzInHdWRcWt1DEHWkSfyOFwH998p3cSz9yjtfQkOXdRI5qzN36RROIrXZL2wb+rxMfvoevo2t/5PZtTfNqIvjIwLjbzE+Xgm2iowUNibyA41lVkj8fWGwT/zknFap1VVMerN6Tirm8T1rjTzbVmHt05JjBbk/v5wEOU4FYN/9fRyTjvvzOV4PeK5vpoKibtewGqnGIVwjk/RNC/HKE6ZaZCAN/CTkGUgRP698A5J8os3gx0GroGHXiXEt14n0MtsIQ7uiMrb1fp4tHdKTY8JkI7y4+zkziH3PYiqWNv4q0fa6Lh4dKloAcVB7C+d84vC8EDvHnqmBdk56pX/RkHfr8997ImkZpYGAMgXQQE3qgfvGha1H8r3fkvxnyofvYcAKDSASTSPiX41ZcrVQZKSwhPyIPSadW02I20+f/RyrjDk9s7szB/Y+CMs1RmsFz08Dkgoy6bZVQTrvuv3+vXpxLkgYkgZOY+U5/b0Jk2PhPEPY3LseSFqo201qSJuAkJgXBkFxLWmfBuJNHvbvPwnO5/1tU6FGnEs6bPtz43D91vP7a/399vttxD3CJHx/jTg3SfKuuTdx2eY4cY7zZRHR50X2/ctpAONDQtPEkV0DmHxY5PeeJ8jD5Gm+hWNWCpqqfviueUSiIUxYshooMlI4FfpCnopvtX64MRJ3L350Q8fYJzVonPdUTiqiVEL9vWsNjZwGl9aG31F8iCJ6qtTxfAEygqJ/v+WQ6/LcffwPmKX6e/OMHMsrZgL2db1K19YaSZN0Sw8tALMCPx8OmHy99LASbhr079xXmJOQsMmbhO/vI31F6nwveYdcG28ThiSOyPi6/TGZjIzDj+PJ/RHnc66/N/u2i4Y+7bbJB1vaKH6B/Hnio2B0kn8L0U9e2Ba2HvI7eZ7v4P+PRoTJjEYEITRqhnYvHbDcQ1YDRUYKS8iPRfxoKfCR/HQJsxpIvPmxFQQaEE556RVxBKR2T9hsI2sN5MPwVSO5+AgwJyWPiDly2P7Ni8FJsU9vwozTnmvyQQNmeClnbn4O/Xfo4xFOxUCNzcchGoi1xjhderZMapwuOYmaI4PZQ1qFmQbjfzAyCUlD0kFyf871YSZJwvRalf6a+Ihj/2r2+7DZj4zDuI/Yd55Af5zweV7iGF/v07BoGL9L3j/7SL15SDhFaxAREjO1pkFc1PeeJyS/beWnfRpdzudGzaiDmcrkO81UykXCrmb+FxkpLCE/JqgI2Mnj2Nv/eLar9RMm3lQsGno9Ig6BJqpSIOJRn+eOZa2hIuQXYWi4ER60IxoFafEeVJmGqiMjfCb6d5SvHCujbs472PeOtBvynPMiQmNUWb6J5/I3EMa+87ael6Gj65EfkPeQJu+iZ6sny8RmBmOaIv+Ta9MgeZN4c7wc+rC2Y0k6xzLpmnN5Zu4fx99fW+6+8fnx9Uh/nHvGz+nP9eL8IiL5MH6/kCzlxUgoJpusfZIJtlIGCtsG+QzynGlGfmdUEwLIiTgjyfp6Lv/eamGmZCQ/GQn6/cJ8of9WCrv1hmglMlNuWHHCLSfTIPeI14+OfVPxY+SGaBqd0TsZ9vGPj9cKiIRJ+axjYlZgIzRUmt7BNQXY0ExzSRgNpOBybKQpMFICydBIIxrCe29zTJjgzygPQ+ANhTe0k7nKdcPjjegwYoMYLUIj436e7eJUYaxm5TAN+u8jDf4V5iNkkqlNeql9aU2mxfg79/s98uyE7yWVp33b5cL1Mg7T37fcfo5Pa38cfnytPz9JTiueRRPpR7CV8RD0SK4rW/4dCx6aqVVPXQOZiSwTbiyFv6DP7xzbt01++waICE2U+hfxyxT9vk1/T+LI/mpg5mQkP8b4RQrzB98nMA+MeROYCjSCfBJUCEhJKoBe+u88DXI/qHQQII07Vm5yKKMF5u2/UTA1siah0oMwgZ/5H6QTaaAtodmxrggNB02Iia9M7W0uG2TL0Fez+SIrSIQ5KEzOZwireVXEYV4JlYM4NehMMfxQhEE+nGPSYstFYqiv1yuf+u9oKy9UbublQc5oR8yh4XvOCn0aeuR8ruVfLawvfAPk1LBR5d48Fmn4ejJCaAuZLPkwmITSsF//E0IiDmGEz32FLdH//5B8VZfbqnt1jkL41PkIH5+1aKWFmyXWTDOSlyHj8yXzJ3q1eupmhzRRlIaSpuLtb397+0Gp8xT8fFPieFr0z6TGV9loZDXmWXU11+cFISPIAn8NJIOpxPubKIvmgs+LGYP5jCBxtByIiELvfiTDRFk0BrRPtCyHHXZYq1iJZeTdrwIW96677tpMHey58sToAt/GpIOuIyfIiO+wHui/Y46p0Wl8zHZsng3/D3+aWaF/fo/kSf7ThCtZX/EtkAwz92r8DBvVE1f3pNMjjHJlnwZFueHUmrVs+vku8m1TLxX+guR38giStzoN6hGmZ745ZlBmCtNJCjHs75sV1oSM5EVUThqxkvkUPyVR6DkwmXjJ9PfbbbddWzHVNPt6++b8sH4P04PGNRXB1vyw/T9iyBjzBy2BtUj4W2h816IgTAMFVDqREY2rUSMKMJ8Nfi40SsxL0YyYNdR+1lVRscpn2hENNDIhb+MfQphnxJVJoHbYYYemLWH6YRoS3ppPyCFCZKkClbJ71wP5jvlOtsq7ScRMEIaMMD2p9NYSfbpI/qWS+RBkhGbPDNhMm7SF/hWz1PpXev8oIjxNSqaOp3WjtY0PifJFxF3YEsnDiHxSv6qXaETUY/JTfRJn1eSl8LPO05mSES8AXsKPovGitjVjYMn8iYZNL91QTJWBab05YiIjEcuw69GbvdICYrQXSER+2ml/2NzjX0GC0ksyv4ihrXpIKQjTxj0r+JcNO0ZGaCNe+MIXNjMJ84p1kvTeaERct0VGLNbIJJPeHjKiAjatODJCM6JScI3QiKiUERSLPSKFtDE0LrQvzDUaeeY06lRkhKOv77Ae6L9PvieCi4yZOVSPSz5Rq68VkiZ5Ho0SrZP9bEvWV5RvIzWYIBFu65GZOp9WUGdI2aBdUzfoBPiW/itO7j0h6Z1alQH/X2FLyJOUTcLJXKeHqVn51FlQl6jTxiQkx7PEmplpopo2CZLKtWT+hMe6uTNszZ6pgVUx9GQkhGTHHXdsvX3+C0imSiLfeqXo/w8/vYqEalAjS2uQ9U1UPn3YYHy8VpBOmhGmKyYr/iJMNZe4xCXa4op6b0iI/LHVk7v0pS/dzDQqYHll6Cszi6nHEUALtCEYeiOEv4w1TlS6KtreTCN+pF5lzbk4Zpr1JiOBb+kdzSbqW9LwPPjBD25kS9pnif6fsJUWfgg0TMggbZut72K/ZP3ENzjuuONaGbAY4elPf/pGRtQxNLEIOJOnuoj5Rjnz//umyIlhv8phhv0y2WhI+7poLBsd/XuO31e+pWxm1GKGTTOR0VDpLGirhQsBIWtRr6yJA6utCtaPQn19/PHHl8yhqBhoOjiT6X0jBL1mBAk54xnPOOy2226tR2KtApVKhmzmx50G+T9SUJh9xElj4BkacI2JApSwvTi31kBG9CY4sCq8CjaHOnmj9y8vNHjIiHehajb5F40SjQqtk0qW5gTZsogjbRAzjMoBGeSnEy2LcsOhV4WNLNLAIEIIiLynVo0D63rkB/TfxPv7ju94xzuaR77vqKIzTbrrs0TSkH3/DcL2vOc9r/muyF9beVyy/qI8MA8YBq9+SV0TQUpoDTWY6iW9+fxjiInyYc4fcfjXmGyUg950HJn1vzcP8I551xAI+zlWHmhlaVzVYXFW1aHJ6KT1yqs1M9PICD+InpHKu2T+JN+GJoKZgD+D1Uf1VlQUevIaUTOiqhj8vOnp54ef9ifOj5+tf0TjrEfNkZWTmtlO9YTGYad91mpBGq3PYIhhJmNjXlJhZigubYjeGudV/74RMQ972MOaOQVJEVbPMD09w3T5ySA4SAobrlFFVNTi49SnsnUvjYmejHxBjBBIFYrGXlxrjXyLfBtp0oulRjfpGR+jb3zjG+3fmvU3SzqyL+9NuEarZEkBxI0qumT9xbeg8fCf77777qciI8i9VYn5kCkPiEe0pL6rfw3pVVfFqVWnwHfunVpJ/19sBvTvm315Jr/USUy+8mu//fZr30Jdrtwmr9YDMycjXqzfypBkTsn8Sb5VRtMwDyAh5sfgI4KE8BFBXPItx990GnheL+5XidAoID1U/FSxHEWjPky4aZ+1WpAOonHNu0uzYwXaca4jEgnjHE0GUSnkPVwXDjExVJcIK49zv7CO2dgRoPGz9XZyvNbwzLyHdEqfnhanXoSNVgSZ9C6zTl/Skn3pkZe0U9JA7Oth57hk/URdYmSYSfv4jISE0BLyWWPWj/YQEck/lu/s2Hnkn6bF/D3+OcN+M1FXwpKNDu/Y50/2lT11zsc//vFG7GhamXkRkUyx34dfD8yUjEAyJchxyfxJGjNCte2n1bPVo9fz19tVieeHtSVguzWN4fi5kZgfqPhNCe/5WRI+jVpkrSG96XVlO0mkrd8n7u3D9OJa/24Jm3OO+zD9ff3xWqNPr4afdsiQZY0JFTrfEWmWNuHWCklXnmmbPCqZD9FAIqvmM7K8glFitIPqHksiaCiRcGEh9+VbZouQ8CGhjYuGJMN+56GhXUt4x0jeOYSNBik+IvGxSR3Wh18PrIlmJJLKtT9XMl/i+xBDu4wC4UfChIAI9I3i+DvmPvsrRe5NY9rHo1GjTrRipGmgObNS9feNf8KvNfp0kuSHbUSYNMAk+66N91WWOZf7bIl8sO3jzb2JN/fk/rWGZyaNerB8YvS8+P0YmRUt0Hqnr2T+BNE48sgjW6fDzMPKu44Hs2a0fZH8P9k6l3jsa3DVGRpc8RkdQkMXDUnCb3T0Zc1WPtIu6RggIiFq/TIbff5G1hozd2BdrxcrbB3yIxv66Ce21dDlWr5lvmvC9+dWioTvJXEpHNTpyBC7psbtqKOOajN49gVnPZB09u/ep6k/D9nvz2efjONb7ngcd38u6PdXG561nOR7UQPzleHvw5lXhReiFFlrSF+enfT2+yXrJ8yNRnXQjnB45t+DoPRh8q2C/EN9GOIfdC8fEk7KCAmTTeYhQezH/wFZVCTt/buQvKNyR5Mtf0PQ+JbJ6/GgAFjvfJm5maaweOh/aAV8rZHC4NkqJ4xeQbL6K4bPt2K9CsxmRvJ8kqjY9EDNHMvPh/OzOUY0Nq7nfyoUAv+FnjkfI74jNGjpqa8U+f8i/jG+KEw2RuroxHD8tmjjmBirX3LfIqJ/534/gpjJh9SfOnWmCWCaWW9n1UkoMlKYiPzc6/GzppCkQBkmy+OeD4J5TTKfhuuFtYU8z/eJ+BYaAM7NVMAagCw5ngo/99U3KwT9P9ETA7JS9Pf08cV3KVOc+y85tao70hCTaZ83T+jfvRfvxWRFI8L5nw8NkxUigvTF1J3w84IiI4W5RAqVSoqK1bot2L35OsyJorClQimsHZLn+T62vhG/oqz2ye6fFYnHZGSeKr/C+sK/0P8bW/t/5L7EZeu/U0cw2Rhlo0GmITHsFyEZm2wWEXlniMbHe2dmVaYZHYNM8R7NUF8m5+ndi4wUJiI/+nr8rP2ziUrFHAOIiCnSzRYbpzQFqrA28C1SgWVfxWYosnk8rKZq8ikOiFTvrvXhI4UC5H/wj/QyLXJf4srW/0djF6dWS0zEqZWpojfZLCLynuBdHNMk6whYz0rHgM+MOZHMFD3WCGU7LygyUlgWftT1+Fnz3L7Q/PrXv26OaIb5Urlq/DLUt7A2yHfpBVFU+RntpPKjFu6H8kK+I8m5QqH/J3qZBomjj6vfEj5mCAmnVpoCdUhMNhz0p33mvMC7IVygvNGI6LSZn0mnAPGiEUFE0nGLJG/IvKDISGEu0RcWgtVbFI5TGu0IW7CJ0Jx3fVzICrPBuCLjlc8Wbfi1Xpg1czIXDYH6JoVJGP8XW/Of5J5xPPlPbTXYSDNnTktYWOYiGhIN9STTRf7drYU4IokT+v1thXiifYxphkkqzqqISJxVk5b+2ePj9UaRkcJcIwVGgTN01MrCbKB6Ny9/+cubiUCBHFcm81TINgr6/JXfepUmprKQGZu8NXOMforKuL5BYb2Q/y//qy1CosFmwshy+eqQsQ8JSX0y76KsMc0YZYhoISJmVtVB0FHonVXnHUVGCnONvuApWCZDUpkYWWP46Je//OVWGBMmBY8UVhd9/qoEeeZbgI5W5H73u99w4okntuGZfbhCYT3hH8z/SBASJhvO1hn2m4nR4lPRh8/98yjSZy4ophkaYx0CM6tmGPMiEREoMlKYe6Tw6a0ofJbcp2bVCMb2O9aOFGYDeYuIcAy0ArdJlDiu6mHGabW+QWG9kTpjLP5PnRcNOP8mmgSExJQBRumZG8cClsS+NbKmkdybY9MSEOey7cNvi4jPRHGIiOHLND2HH354WzATEek1lItQHouMFBYGCpRCphdjynGTa5lyXKOIpLieCse2sLpIpUalbWp+fjv8dw466KC27gWzTcJFCoX1gn81dUIk52jw/LPRkFgZ2Dpc/mfS769U3JP7aG7FecMb3nDYe++9h3322WfpWh9uW0QcnnGDG9ygrW5u0Ttz+/QansgioMhIYWGQgqUisW7Ogx/84FaRPOc5zxm+/e1vb6EdWZQCuEhIRW4Rw2OOOab1xO50pzu1dS748yCKyfv6BoX1xLgxJjlnq56g3WPm5WvhP1aXMHVkS2uyNeJ+mgqa2+tf//pt4b+rXvWqjUA47/qk+7ZGxIWI8BH50Y9+tDQ6qH/XvP+8o8hIYWGQwkX9yAveWjUKvPkDmG54lLuWwljYeiQPSSozYpikUQkPfehDh3333bf571jhOVP0J98TvlBYD0z6//J/5pp9yxWYVNGkfV/72teWxEi9/nhrBNGhrTDs3SiXj33sYxPDba1IIzGU3tQHNCJ9Z2ws844iI4WFgQKVBlIPQEE88MAD21A9JgONYmb9LGwb+rxOZSZfOa2ySxuNYEQTEpgRTbkv99oWCvOE/JP5R2FSfZH/eFrkPoIcmAH22c9+dtMe8uXoy9O2InHZegfbvNMioshIYWHQFz5i0jOe4zzINYz2NZa0I4VtQ/I5Faf9THD2oAc9qGmkVLLMY+N5DHopFOYJ+Sf9z2nAJ/2nW/v/5j6iXBhKHDLCn8PzlnvmtEg8Y1lUFBkpLAzGhQ/p+Na3vtVMBRrHRzziEW0J+3iRF7YNyWf5ruI2h4g1gtipTc3Pm3+8gnL2c1wozBMm/Zer+a/2/380I8961rO2ICO5vq0Qh/jGsqgoMlJYKGgUU5gVPLbS9773vW2IKd8RQ0x/9atfTVS9FlaO5HGEVsTQR/OJ3OEOdxhe8YpXtNkdx73L8X2Fwrxh/I+u5n/axzk20/SrWK/GM/tn9bKoKDJSWBhMKnhGcHBmfcELXtA84E2EZgy+xtP13FeYDslfRCNDeZ/ylKe04dT8dEwcxfkv4Xrp719r9Ono07Dc+ZWiv6eP47TOjTEO0wukV9uTu8JfxzgvTyvvJoUlq4FxnL1mxGiX1daMjP+T1Yp3vVBkpLDQUPgQDwTECA/mGsREr10jmjCkKvmVI/mkJ8dB1Uq8Jje73e1uN7zhDW9ovjnp5c0T+sqeOI72JrI16U58TIDu7+PMdfvZTkLCJxxJPIkT+v3CaSN5N2m71sg3jegohYyY5VWZ6a8XtkSRkcJCI4X+5z//+XDEEUc0EwJ/hne+853NwVXFlMKvgqpKYGVIpY7QGcprCXajlg4++OA2rND55Oe85Gn/jZN+25wLkbBvuxIIG8n9iXMsfy3eXLdN+Ejijb/TStO32ZH8679N8nitkbREioxMhyIjhYVGCjaVqCmemRLMfvjoRz+6NZocLPsKqiqBlUOe/exnP2v+ITQiFuCyUKEJzsaN6TxAOsbpIt5DY5VrtmQl6OMYx9OfJ/35Sci1Ppx9cYL9yHJxFLZEn2cr+QazRJ4bKTIyHYqMFBYeKiAVemYGNTMhDcmxxx7b1ktJZVWVwMqhYucTctJJJ7VRShnKa6HCaEUi84J835AD+306SX9+JZgUZ/bFMX5Gwk9CriVc4ki8/XXnCn8d4/zst2sNz+ylyMh0KDJSWGj0hRsh4Wj5xCc+cbjZzW7WZj7UmNZKstNDRWoBQlPtm+DsgQ984PCJT3yiLTKWfLSdpzzNP5AJ8Q455JDhspe97HCOc5yjTctthWH/R95hJch7WvvInCru9YyTTz65xe85fT6cVkOYcBEjwV796lc386L8zv2Jq/DX4VuYQZUGL3lPS7oe8OxeioxMhyIjhYWGQp3K2xbxYEqwEqdG1GyhnFkTpq8Ectyf22zo318eJZ/423zwgx9sqyNbT+PQQw9tWiaVfyr9XtwHOe6Ra4l7lqC1eeMb3zhc/epXH8573vMO1772tZuJ6TrXuU4jJXvuuefw5je/uf0ned9In3bvmWOmvhe+8IXtf9LwaWSslrrHHnsMH/jAB1qYPp4g+33cCWNfXJyCTdqnAc35cf7mvG3i689lS9wLiWN83X4kyDWS4/6enIf+XOKxL79yzhaybxs4Jkkn2E96IWHA+f4YhIvQ1GVIfwhdwo/vtXU95/tzkYS3Py36uOz7piYJREYytNe1/l0Lf0GRkcLCI5WAQk70fq3qqxG1mJ7JuZgc+spiLJsV43yQRyp1efiMZzyjmWce9ahHtcnkNPQJ1yP3Rfq4YHx+VvCMT37yk8MFL3jB4QpXuMLwqle9qhFRJMqEba95zWuGi1/84sPlLne5NvpK+DRM0uW9NSAk5zWyfGTueMc7NmKDQLhmau/jjjuubfPfCS+OxNOfc0xj04elbdFYEWH6a/2WSF+20iQ+/3TIYR82xwkn7uS983nXxNmHcz3Sx+u67y9s4nI+cSWMd+zNeK5FhLHNvSTPdo9t7osI0++7tz/vO174whduZLkPS8SdeO3nfMI5R5BNYZzvr3nWNHBf7rEvTt92VjOwbjQUGSlsCKSSsqVKpx69z33u00aAaFS/+93vtsrB9T5s7t2sGOeHythQXgt8mWKf/w1Ng4nklqugc2+2kcC+eBNmFhA3bY7ZYZERw4/7xs116bdkwLnPfe62SqtjRIVvkXlTvKcl5fVkTzzxxPYfafAtyGjl1Ute8pLDM5/5zNYb9z/JI3PcaPA+9KEPNS0JJ2qmLfG4bpSX0UjuM1OwdGVSPmTkPe95z/C+972vxWElagTqZS97Wdvq7dPsMeWIw3sIJ63ItvWYnv/857cGDwnwPrZGkiHgRx55ZDMl2YaM5zvYissMxi95yUtaXNLoPkPlxSUMU53niydxMS8lLvcjeZbjZ24Sz4tf/OLhS1/6UjNLaISTTgvHeab7vOu73vWuRh49V9zCMrd4NoKgDMt7WqyQGSvtSoO45L05b3bcccfmI8ZfzHXhkET59+QnP7l9C3ki3a4RcZrE77nPfW77LqYDkI/SF8JEpkHuiYiHmTiaEfmRf7FwahQZKWwoKOgqMwXf1OVU63e/+92H97///a3yT2VgG2zmyiH5oYK21YDTitCGmETOUF4NbBq7SXBfL+JKY0byjMhqoY/LM/hx0Ijss88+w/e+9712LmmQHsf8PlzfZZddWuPE5+Myl7lM8y25wAUuMOy+++7NvOMcO7/eLK3IWc961uFMZzrTcJGLXKQ1egjMrrvu2mb/1bAhbo5pXS560Yu2OM5znvMM++2337DXXnu1c47Pda5zNbKisaW1udGNbtS0T/7Nxz72sS0c7c3FLnaxRqrOeMYztmdrsDVuGtBrXetaLa5LX/rSLc3SKk3eE5G4xjWu0dLi/rOf/exNo6ORTT4R+YEEXe961xvOec5ztriE32233RoB8h8gGrSLO++8cyNiNBCeZ2JB5cvzEBHPYP6SZml3zEcHQbjQhS7U3kneSddPfvKT9h5GZnmHS13qUu2eS1ziEi3P7n//+zeSgVT4B113nDRbJl9akAir4J7vfOcbtt9++2GnnXZqeem7WzBTvkuHuD3fOxhhh7CKxyRk3lU++faejXCecMIJ7VkhJNNg/I/LQxpFZAcJRkyT/4VTo8hIYaHRVwARhV3lq3emQrvJTW7Sel5f+cpX2vk+bOLYrJBXyTONi4pfjx6JU6FrbHsS1yN5mPuzryLXaOidqvhzPbIayLMC8WpINDz8XBCEEJH++bQ+nHE1YsiL4d8aUeREI0xroZd/5StfuQmywsRzwxvesPmh0FDIj7e97W2tYUZyPYvvB+LALOjd9eo1sGc729nawoI0DBZN42ei0URykBH/JmdrWhjPZgYSFhFAQDTmCAGCSK55zWs2QSQ0rJyKDWX3Dp/61KeGU045pV3nH/OkJz2prarcm4GSF8gEwoCA8LHSUEof4uR+mh/EwPNpNXxLS9U/5CEPaQ27uL03wua93afhlXZk5cxnPnM7R9OCIMiDs5zlLO1ZyqDlGxz7VvJXfpjLRp7yz2Eae+QjH9nyUH5Ku3T7P52j7RSG5gSRUL7lnxF1+++/f0sjDY339HzvIhztl3QjpEidd/ZPSBfS9rjHPW7Jwbn/v1aC/JO5z3sqP+Jk0vO98h9OG/dmQJGRwkKjrwAiKfBU8JwVNap6rlSlKuu+Uk4cmxV9ftF+aFDMZMvc8fSnP701QMmvcT7lXC/Ih8pdT1CDrcHo70+ebysSXyBeDR/NhfR7lzRgRLqI74+g6pXrWX/9619vjdsDHvCApcZCOD4IGi/qffcgGxpvja3rNCMaco0MbQQnStoFJhRxeDbHWb1uDZ5j2hDOqggJU0/ICA1UzCjEeyEbwl3+8pdvxAaZOProoxvJ8F3kMVIkbUYJ0QwwNdAo0EAgUmnEiTQnbsfMI9FESL9rnsHcxEwkzbQdyo0G3n3i0LBf6UpXaoRK+pERmhumHpqA5M35z3/+Fo84nZN2BFC+OjYxIS2Ub5b3RsBoJ5Ar74eM0ILET0eYaEb4YSANviHChHh4vnyVZ7RNTD7yx/shZLRmiKh6wbekGWFCQYZ8e0TTvnjG/9dKkHtyn+/NpGRUH7MfEjQOU/gLiowUFhp9we4LuopLz0Rjw2Z94xvfuKlp9XQ1VOOwmxV5f40GFTrTVtb4MZpGZe466fMs94238lxDprHRmMj/XhslzGog8WVfY6UhpSHQ4EczkmcmvEZHL11jqeH65je/2RpAfhHCEY0lnwYkRU9aA49sXPe61209c3kVzQjSEDKCWPROine7293aKB4NXM7xcdBYInkaWfdoODVcebZreukhO2kcNe6nO93pGuGK5uYqV7lKa1SZWkz45/1ocHxD3y7vPRbmHoSMNsgzk1f2PS+OwMpMvp/0KTtIloadphEZ4YMjH8RBEDjfgQ9N3jtaK74u4vN/KZPIhWcKg4BIN7JDy2F+G99APrkuDSEjtEbIiO8kP5Ah8UqTZ3s3ZCp5JL3S6d9gnjORnzBEfL4D000ckpPulSL5Y5t9BNNzaIFotaTP+eR1YUsUGSlsSKQy0TNXUd7jHvdopgeVA5W0BqUqhb9UonrZGg/+NZxW5ZNGQEORCjZh+608TGNiq9ep16oBuMENbtAa7ai9yWogaQmSHj1rDT0/COaXPJMknRoFBEGv3L+BLPHz4DCadxVeI6fxjDaN/wMyojHUWPPRCBnxfvxK9Og1ZnkeMiIP3OOcf+4xj3lM03jwXaFl0QhystZQuS59/lMNJH8MJCX5rCHne+EbccrUIPNHIPaZbDS0zA/xQ5kEaQkZ0QB7btKMePnuRqlo1GmZxmRE3N5Bwy9/OJD6d+QfsY4RXw1atsQrvpAGz+NcLm/kgevCISPi9g1pNRChMRlBIMXN70a+e0avGeHf5Lvsu+++LY+Yc0jyiabCfb6pPBAGkfQP8DFBHJh2PItMg3ynvLNncKK10nVMlq4VJqPISGFDIpWJCkqFRx1rxVm9YipbvdmE2cwVhPfXOGgcqfn5RnAupLLWs0sekVS0/TnHOSevkQCNKUdNzodMChl9QcSxreifH9jXyOhx0xJoZHrTRxpK/ggaHY2sY5oR6eQ82o84QcZoT4x2QVqQDWSEmUJ+ISM0B3wCPJcZh+9HHDvFg4zwTUBGnHOfBpbDacgIAhMzDXOI+XGkX75FK+XdpNVInDOc4QztHTwTUUEUkBAT/WlckQlkBMGhHZoEcSIHGm0mq5ARW74Tmb1YAx1NgvRLB83QVa961Ub4aHxoRqQ3ZEQ4BBTxoF0RL2FOQe6kXTiaM4SGX1fyi0YIiWUi9B40Pb6NPM/zkQ+OtMqzPOg1I9KPXDKX+V60RPKISLdn8zGhARSev488dk36mG4QISTLs8g0yD0R74OMcLaNCTDXCqdGkZHChoVCrwJQYau0qMhVdHqRGgOVYirLzQqVvApZ46Ph4V9jiKZeahqpXuSpexCP+CzYl5cx86jQ+QfoseppaiDEtVoVceLp48oxrZfn0yCw1TPLSZehoMxGHEr1yKM5MfKCFoKWgJ+LHrnetQZP46QnrjGj0aD25+OgcdZoa8w1aBpFDTgthx6wdMgP+bn33ns30uGcfNP4Mxn4//T4kREkBhFBlPmEuE+eebZwttIlzfxB3O+5ziGNyAxiZCI234SJx7nTIiPyiTmH6QKhcqwRRp7Ez4FVeuSLhtt7aVzlKaJpyKz4aUaQEXHkHZER2guExzGJP09Ig/8CKUR8kQ154ft4f9oa5IwmiF+LZ0kPfxymHfeFjEgzUuNemjH/LULn+7/0pS9t6UYGkU0aHM64fF0QKqQNCZH3/g/f6mpXu1qLJ//rNBA+eaBccATnz8Ns2RPjhCtsiSIjhQ2JVAqgAlDZUXtTA+uxssWruIVzfbMCkdAgZwp928wHkUpTPsojW5U0TYFGQGVLQ6Dy1mBrGJkQ9PyRPqpyPXSNZJwkZ10JIwEaasRAQ6qXTNvDLMPJU+OvFy+90qOBdw150lhKLx8MhAYpE45pQu+Wo6bevf8oDqy0EdGM0LwhCMkvI0U827+XcxpzpEaexUyDOHBS5ezKJ8QzaAiQBY2mfQ2yBs2z5a/GnjnNNcSJpkfv2z9tNIw4lzPTgO/uHTzD+wrPv4ImAqF0HSnT+ItfvtGGIJjCatC9EzKCQPDXyT+CjIiT02bOxUzDgdW/RYNF82QUE3KICCB3HIlpKjyfBhM5QHZopaTPsXDIiPyQj+41ModTLeLmWdKNyNiKHwn1P7ouPbQk4vGdfTtxezffGcmSbrJSpKwQ9ysfiI9/CNnxX7o2TZybDUVGChsSCr5KJxWABkUPRaWt0TA0UcWk0nNduNzXy0bB+L0iepIaOGptfjUaqKiUI/JRZUojoJLl7KnR0AjYcnTV++RgyR+DlkAjpbeqMZXXHBJTIU9KzzQY3xvJd9TYaegRJUM+PZ+/gBEdeuH9N6eBQEb8F96LaYCPAXKAZHh3kvfjD8MswkTB+dN58SG3SJd7kh754hyTQ/KSmYHfgnPEdVoF5h3OshpJvWlaAfuE+YxmQTo0wJ7PZwJxlFaTh8lf8Xt3pgjmJf/8JCSvXEc8NZrySFwacr16YbyXMuK95SNBQEOuhOHjwhQRU5R45bF/ilYi+YdgaJgNp5bGmGmYwziYM6sxQ8kH/0nSh5DQZEofrYr0+q6GX0uf/KD1lGfS4ZnO0yg59j0ROelBXPIP+sf5+3hn+Yjc+Ia+iet5v7H0yHGuiRsBpMFB6Pwf/i/v631Iwubewl9QZKSwIdEXeqJHz7lShc+ngejBOTeueFJp2G4UTHq3VJwc7PR8NXAa8TTWRL5p6IRTuQqboaN6yBoIDYNesFlNjYTINOwamvgAaBzGlXLy3TNybiWSOHLPeBuIX9zeJw1crie8xjRDRRM26QmEXU7WA9LmfaTTO47f+6+hT7utuLx3Xw4C++Lv86W/vlIkHlvPY6bxH/HZmfT8PCPv6vr4GvTnxpJ7yfjdcr3/5sIEuZ5t9vvj5L0tDRoSZiQRIslEFMJUWBmKjBQ2JFJx9KJSYpJgt6eOP+igg5q2xPk+XCqejYi8H0E89B6RChNF6RmqVIXR41S50hCYq+VhD3vY0vBI6m3mBT1WvUu9fb13BIUZLM6vrslnZgO2eeprec3Mw49D/EgLkZZpxTPSIEz6bvZ76eFY+GhGEDFpSxx9+BxPkvXCtjx/fG+Ox/nXo7+n318pxO1bEflsNA0TETLoWp7t+jh++/13GV9bqSR8j0lhwH7SzMxCG+Q/5btCaIzUJeoP/z8tGM0ODQ5TFA1OylJhZSgyUtiQ6CsYkkaLWYJPAcc5PXaqeXZ+FWQqwr7i2yjI++T9aEVUoBoFvgdU8Rr4EDP71PdMWjQHnBaN5CB8CJhjkBhzThBOk0gHs0Js5BoaxM88HtToKnEVOo0U9TjVuPC0K3qThmeuRISldud0mffp32+M/lqu27qP+YAJR17oHed6j/6+9UbSMklWikn3RiZhfE2+kZXCvfmv3CefNdwIYD8vyzjePHeSrASndc9pXQPnpIWpCKnOf2eLeMd0xLzH5GTmXWWICY2pyX3unxR3YTKKjBQ2LPrKJhWDilCDqDHUa+fzwOY87mWTjYRxPvB50AgjFPLApFTyIOH0BDnzcWrl1MiJEBHZYYcdmqNfT0Y4AJqrwbBV5hx57Dl8D175ylc2040RDnwjVObynTMhZ06EJP4RtisV/gcZuTKu9PMOy0ngPo0kjY3GY/z9x+E3GsbvOeldJ52bFuJI3hL7HJr516QTQITrv6VtL9PitO4fXxsLSIv/gpNy/HeIf5gJkv8M3xyaEVoSZQbJ7/+hwspRZKSwIdFXLKkUsq8SRED0aJgb9Mw54KX31stGQhoDZhKVKEdT657opUY7lIpUHnH4U9HSQpg2nJnGiBSjSIxS4NBo7RNhjLxg8tCwp2HhI0ILRfNi1AJCQntiX4+S6Ya6GzEybJRfyUpEWISSGjzv5Hm2kG83lh79+b6hTFy9zBtmkbZxfP0zcn58vFLknj5vk9d93mc/YYLx8TSYFFePXB9LrikTyoZ/zn8aQTxodTjChshGEkfepbAyFBkpbEikQuiRykGFQcWvh6MxRkqoYvXkhYGNWImoWDnUcayjYqahMOJFry4OfMk3+7mHaYsNHCmxUJphloZYyjtaChNXRRvSi3uZaoxW4GeCxBhBgYhYWh2Z8Jzk+UqRNJI8K8eTMOlazuVeSDpO61y2Y4F+H/rr8ocjMJLXxzUO14tGjsmLxmq55y6Xrknhx+dO69nLCYzj8Q2NtIpWIMi+7Xi/v99x/+/112F8btIx6cMuh4QL+nsnQVx5Vr+F8T704QvTochIYVMhlZ6G0AyR1r9gimCy0OPRgEIqmY0E75TFA5lWaCoMM9VIypOx5B5CyyEcImO0DE0JUmJ0jWGnGs7cF4Jhq+doSK2pxfmaIDO9M6vw85TX0tyn37Z/r6Q3kuNcCylLPLmXw+7BBx/chvKGFDrf50HuyX1IHsdhc3gI77zwea59YjiqCdt6rRTJvq17ct94P+HtJ13uyX2ekWPI/XlXmjaTwjFbxGkz92bbi3PulSeGEmeUVdLQ7wuXfVsijY6Tplzv89K2sFgoMlLYVEiFpuJSiapA+TtomJlrNBZMD8wYfBw2ingnQrthZk2OqeZ2YIrpG4zkTyrz/jgVPg0SjYe8QzSosNNAJFy24jYLKu2T0UvmKdH45JmJe16Q9PTvEEljN067/XEe5tiWMCv5z8w/EfNS4kscjnOPLRMXEuebJR5hhUsYGj7O2Exf/YRrfTx5RiTxZEuECxHJ/Ykj6SL2+2OC4BrCbZbTaEd6STr6rXuY/cxtIz+QDvF6fuJPeMf2SdI73k9Yx7aksFgoMlLYlFBZaRSZKJ7whCe02RtN4sUXgvAlcS7HG0XMCLrXXnu1Kcc55iFkqcR7UblDfy6VPNFwaXgQE1qRSXFENDx690jJcsNxyTygfz/bNIxpEJNW5xxHO+A6YYaRLzFB5V1pLWg6aAP63r59zpyT8sVMschIZoKN06drEfHxyTHTrFEcOZ+0Js6kL+knjnsSmet5j2iviHhsE9Y3F0a6QkYe//jHt3sSxrt5L/+Ispb7xcVHi9nO8gOuC5u0CisPxRWClGtEPJ6bf8+1iLB5fmGxUGSksKmQyoqovFTwtCDMBxpoGhIVZL/dKHLnO9+5bc0pwl+GA17fwIwl+dVLHzb52J8fx+XYM5gSNCxpMMZh7c8DMtKK+SpEw6gd5ywKpwF0DgkwXNlEcMIxYRnaaai0KfEPOOCAZr6KvwcNhvCGEEcTgJwgwpYncJ81WcxRkZV0kRHTqvPr8Xzx0oJ4Jj8ecRvxZPp487/4h/niyG95mryWZsNoabLck2ucuB/3uMe1+V4ci5fmxnB3GgvCSZnmS5zC2HqGkVPS7ZnMdnyBxIVAIAg0ZzQl3ku5shUv8iuPaclMr2/YuGdwCEVC5AkfI+/qPzWE1vDr/KcIEG0cTZswzITynVbIe+XdSWGxUGSksKmgQiN9pcWvwSgNFSgxKiT7G028G9OMnqkGz/v3BAEm7edY3vXnIs7nOuRcpA/XX8t5Mg/gN2TYMjMW51FpNKumdU6szWL+FfnFhGJ9GNONIwYIg7lYzCqKxGpkLX+voUZ4/V8m+dK4anQ18DRUSAT/HZo46+MQjTzihrh4rgXerFtjyn4TtDmHOPhvNfjW4LF4HDNQv0aMPLVFlAyvFm/IlP8fITVkOwTGhHVnPvOZW3yeZZZiz+KojCyIy/Ts4pJO8/RYTNB7EyQCGTG823ownJaN2EKAkSppRHb8h9bt2W677VoY/kfywyy+zE3yxGy+ho5LC42ee/yv3tt6Nha5Q0bkoTCmfI+WxPsVFg9FRgqbCmn0+m0vGx0ree9J54L+nrHketCfG0swPl5vIA60D3r6Zp9FHDg3m18F+dBw0y6Yb0IjaKE9I7E452q8maLEYfIrPhEaaw0tQUbMq6LR5J/kfuuyIBXIISdQz9GAIyM0I8iA+zyDdskW0UEs3Ic8aayRFMOkpVd+huhpnI10yVwvMfOEjFjkzrBsDb3RVQiDdIgbieF0u/POOzcSwXTimgXuTPzFPOP5NCgIEzONNJpbxlw0NBaOERQOtvIo6UaIvb93pTVCkvgyuS/P8nx5b5E7+SYM7R6TFMdX38EoL2QJeUEKQ8SKkCweiowUCoXCn6EBNy2+nj+zAlOWCdqstKt3r6FkEqD9QDQ0kBpMvXWNLwJjinANvCHMev4IhDVYaE1oRjTG/JEIkpLG0wy1nkPDETONlW6Zd5h2pI2Zg0Yija/0CW8lX426eNxrS9yjURdv/DMSxvopNBqf+tSnWho06rRCCJVjYaTbDLqIFuJBg0NDhGCE9CAWiFrMNEiRtHs31+SHhROlkRYIQZFueSZNCBKNk+t8mmiEkD7popXyLaydhPw88IEPbGSICeetb31rG90ljd49/i9578JiochIoVAo/BlpvPXizUxrQrddd921EQ5T3vNR0ADSNBiNhFiYCpx5g0MmwsLplJggTmNv+nsNdDQjGmL3a+D5nqQBRS6YSmgLQkb4g3BgjVnR8zTozCj2xSWenowQ4bOPwCAjtBIafkTDdf4pTCJML56H5IirnwCPUyyCYN0hWgjppkFx3T22nktbETLCvIWYeQ+OrfKEhscMvrQz0sMPhxaEpiO+IogXLYjzTFwIjnNnOtOZmnM5DQ9iY19+IymXu9zl2nvxz+mdXYuMLB6KjBQKhcKfoRHTCGvgaD44V2oc9dY5pV71qldtJgqNL78R5gTOmMLQpDhHaFeMVuIczQRDS2CiOJoRjb1GmkaDL4bnhQTts88+7byGVTzICIdWjb5GFgFxXUOvce7JSEbTpDHu40UmQgScZ+LgFMtMY74dxEI8SI44Ew+iQTOEkCBhSXfICvE+SAr/FVoPmhxEjEaFoyvHWcPLpcHyAdLgHiSPcyuCFO2K64agyzsiH9/+9rc3sxfSguzQICFq5gjKuknSxWTWv3dhsVBkpFAoFP6MNGRGziAYGkiNsREdNBRMBBp+2gGNIv8Qja+G9aijjtpiqKk4+FgwI3BgjZlG48vPgrMm3wcNe8iH+GkLHGuMM7Q3ZERjr8FGGpARZAEx4eAajYb0C+tdHGv8OZQaAmzfdfFYxh8ZiWaEVoavDHKSeznE0hLx50CqPNuzvLtnCCM87QfNCLLE8ZRm4+STT17KC2sfIQ7eDaFAnBwzNzFB0ZQgKxyHmYPcI51G+hx44IHNpOT95LWRQZ4jjeKxxhHSZjI96XGeFBYLRUYKhULhz9AAEj4fyML222/fzDVIBx8G5MCQVKNnNOwaP0NkNaw0H8cee2xrIBERDTLTjB772IFVb58DJ6Jjn08FX4yxA2tPRgCJYKYRRoNMDHPlm2LxNqQpBCCi8afNYEYyGsWIKiYaxxxWvZfnIRE0GrRC0mtUjHPICA0FEkUrJN2IjDl6kAxaE/EgI0xN0ic973rXu5rmSF7yR2FucU0Y6TYihkaD1kSeWeEZORK34b9IHG0U0424mX9ob6THu9LgfP7zn29xyyf7eWffsLBYKDJSKBQKf4ZGTMOv4dMoa7D5fKQXrnHmeGkekvTCbS02yHRj5AnRqGpojSLR86cZ4Rz6/Oc/v5ERZhLOsDQRzAw0KzQDhtqGjPCDoIVBbDxD2pAR2gVp06AjSU9/+tPbffw/jJBJY0ykj9bjmGOOaaN7jHpBODTezFDej2bE8zTq0qGxF8Z70HiIExERxvM9G9mQbsTEeyNjfGg4yMov6c51cdIKictQXOQMQTJqSRirQiN0NC/ezT15vvRxVuXg6l34jPDdST4Ly68EuZKn3l24IiOLhyIjhUKh8GekAUcgjIxBJozi0MjxWdBoOsdkIBxxTXgNpUaR9sDQXaNSEAFhaFEsNRDTBXIifg6yfE1oETiI0saYP8OzOLciPTGJiEd8SApBEJxDnPiV0BbQZuSZ7glhoqHgd2FhQ4TICB/mEKYl9wuHaCEonimcd8gkbXk+QTiMZPGeCBVfEiamPBsp8Cx5YQg0nxFEDulBijILLe0HjZC0e8e8i0nNxG1CN6NpYpKRBt+Hf4n5W5LPTF1IWa4LW2Rk8VBkpFAoFP4MjVga8DTAfSOX/YjjhHNMe6Ch7QmBbeKMhoMWgZkija3Gmj8JjYCRO30aIv1zXct1YROmf5ZwuT4W6Us8wjhGRpiNkJSE6Z+T/Zy3Fc5+tv2+vIgPTdLi/HJb8dl3v3sRMse5njgi4ha2T0N/vbBYKDJSKBQKf0bfaGrc0uCm4bYlfQNom/2I48RDcn+ErwXzAtOKIbX8RRARhIDWJA2qsNn2cXhGwjjf7yeM4/E75fw4PRp/q1fz//D8Ppxt7s9+LyEn9hNfHzb5YSu+cZ4KA7Z53jgPc63ft+3P91JYPBQZKRQKhT9Dw5bGbdzg2aaxy35/rd9mH/rG2DlbpgwmEKNtOHUyzTA7mI8kz47kmTlvm+f0Yfvr/b6t8LnHNmFIrjE/MZtwME0Yae3JRn9vSEWOEybX8vy8dx+nfejT65xj18fnc63fdy3b/lzOFxYLRUYKhULhz9CI9aKRy/k0cstJGsRJx9mngbBNA2qbxnlS/OPzk+Ici/NJc3+uPxZn4rV1ndgPGejv6dMwPmebOCaFI4kr29yT8P1+jvvwfdz9fn9ftpHCYqHISKFQKBQKhXVFkZFCoVAoFArriiIjhUKhUCgU1hVFRgqFQqFQKKwriowUCoVCoVBYVxQZKRQKhUKhsK4oMlIoFAqFQmFdUWSkUCgUCoXCuqLISKFQKBQKhXXEMPx/MrmLvJAYFWcAAAAASUVORK5CYII=)"
      ],
      "metadata": {
        "id": "FNd1fYpv-Fl1"
      }
    },
    {
      "cell_type": "markdown",
      "source": [
        "Proses **Forward Propagation** dari input ke output, sedangkan **Back Propagation** kesalahan diulang beberapa kali sampai kesalahan berada di bawah ambang batas yang telah ditentukan. Seluruh proses seperti pada gambar di atas. \n",
        "\n",
        "Fitur mewakili input, dan label digunakan di sini untuk melakukan proses pembelajaran. Model diperbarui sedemikian rupa sehingga fungsi kerugian (loss-function) diminimalkan secara progresif. \n",
        "\n",
        "Dalam Neural Network, yang terpenting bukanlah output dari satu neuron tetapi bobot kolektif yang disesuaikan di setiap lapisan/layer. Oleh karena itu, jaringan secara progresif menyesuaikan bobot internalnya sedemikian rupa sehingga jumlah label yang diprediksi dengan benar meningkat. Tentu saja, penggunaan fitur yang tepat dan data berlabel yang berkualitas adalah hal mendasar untuk meminimalkan bias selama proses pembelajaran."
      ],
      "metadata": {
        "id": "E2GQ34dEAi6G"
      }
    }
  ]
}